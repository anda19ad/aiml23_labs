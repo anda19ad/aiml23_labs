{
 "cells": [
  {
   "cell_type": "code",
   "execution_count": 66,
   "metadata": {},
   "outputs": [],
   "source": [
    "import numpy as np\n",
    "import matplotlib.pyplot as plt\n",
    "import pandas as pd\n",
    "\n",
    "# preprocessing\n",
    "from sklearn.feature_extraction.text import TfidfVectorizer\n",
    "from sklearn.feature_extraction.text import CountVectorizer\n",
    "from sklearn.feature_extraction.text import TfidfTransformer\n",
    "from sklearn.model_selection import train_test_split\n",
    "\n",
    "# evaluation\n",
    "from sklearn.metrics import classification_report, confusion_matrix\n",
    "\n",
    "# pipeline\n",
    "from sklearn.pipeline import Pipeline"
   ]
  },
  {
   "cell_type": "code",
   "execution_count": 70,
   "metadata": {},
   "outputs": [],
   "source": [
    "# Loading Dataset\n",
    "df = pd.read_csv(\"./data/amazonReview/test.csv\")\n",
    "#df = pd.read_csv(\"./data/amazonReview/train.csv\")\n",
    "\n",
    "# Resizing the dataset, for faster computing time. A random sample from the dataset https://stackoverflow.com/questions/40986230/reduce-dataframe-size-in-pandas\n",
    "df = df.sample(frac=0.1) # Get 10% of the data"
   ]
  },
  {
   "cell_type": "code",
   "execution_count": 71,
   "metadata": {},
   "outputs": [
    {
     "name": "stdout",
     "output_type": "stream",
     "text": [
      "<class 'pandas.core.frame.DataFrame'>\n",
      "Int64Index: 40000 entries, 282165 to 237418\n",
      "Data columns (total 3 columns):\n",
      " #   Column                                                                                                                                                                                                                                                                                                                                                                                                                                                                                                                                       Non-Null Count  Dtype \n",
      "---  ------                                                                                                                                                                                                                                                                                                                                                                                                                                                                                                                                       --------------  ----- \n",
      " 0   2                                                                                                                                                                                                                                                                                                                                                                                                                                                                                                                                            40000 non-null  int64 \n",
      " 1   Great CD                                                                                                                                                                                                                                                                                                                                                                                                                                                                                                                                     40000 non-null  object\n",
      " 2   My lovely Pat has one of the GREAT voices of her generation. I have listened to this CD for YEARS and I still LOVE IT. When I'm in a good mood it makes me feel better. A bad mood just evaporates like sugar in the rain. This CD just oozes LIFE. Vocals are jusat STUUNNING and lyrics just kill. One of life's hidden gems. This is a desert isle CD in my book. Why she never made it big is just beyond me. Everytime I play this, no matter black, white, young, old, male, female EVERYBODY says one thing \"Who was that singing ?\"  40000 non-null  object\n",
      "dtypes: int64(1), object(2)\n",
      "memory usage: 1.2+ MB\n"
     ]
    },
    {
     "data": {
      "text/html": [
       "<div>\n",
       "<style scoped>\n",
       "    .dataframe tbody tr th:only-of-type {\n",
       "        vertical-align: middle;\n",
       "    }\n",
       "\n",
       "    .dataframe tbody tr th {\n",
       "        vertical-align: top;\n",
       "    }\n",
       "\n",
       "    .dataframe thead th {\n",
       "        text-align: right;\n",
       "    }\n",
       "</style>\n",
       "<table border=\"1\" class=\"dataframe\">\n",
       "  <thead>\n",
       "    <tr style=\"text-align: right;\">\n",
       "      <th></th>\n",
       "      <th>2</th>\n",
       "      <th>Great CD</th>\n",
       "      <th>My lovely Pat has one of the GREAT voices of her generation. I have listened to this CD for YEARS and I still LOVE IT. When I'm in a good mood it makes me feel better. A bad mood just evaporates like sugar in the rain. This CD just oozes LIFE. Vocals are jusat STUUNNING and lyrics just kill. One of life's hidden gems. This is a desert isle CD in my book. Why she never made it big is just beyond me. Everytime I play this, no matter black, white, young, old, male, female EVERYBODY says one thing \"Who was that singing ?\"</th>\n",
       "    </tr>\n",
       "  </thead>\n",
       "  <tbody>\n",
       "    <tr>\n",
       "      <th>282165</th>\n",
       "      <td>1</td>\n",
       "      <td>misleading product</td>\n",
       "      <td>this is NOT an \"ultralight\" walker... those ar...</td>\n",
       "    </tr>\n",
       "    <tr>\n",
       "      <th>19625</th>\n",
       "      <td>2</td>\n",
       "      <td>Clinometer</td>\n",
       "      <td>Was a gift for my husband - per his request (s...</td>\n",
       "    </tr>\n",
       "    <tr>\n",
       "      <th>254348</th>\n",
       "      <td>1</td>\n",
       "      <td>disappointed</td>\n",
       "      <td>I have not yet gotten this to work. It worked ...</td>\n",
       "    </tr>\n",
       "    <tr>\n",
       "      <th>242169</th>\n",
       "      <td>2</td>\n",
       "      <td>Great item that works well!</td>\n",
       "      <td>I have used this groomer a couple of times and...</td>\n",
       "    </tr>\n",
       "    <tr>\n",
       "      <th>46007</th>\n",
       "      <td>1</td>\n",
       "      <td>Explicit!</td>\n",
       "      <td>Disappointing! This was the first Linda Lael M...</td>\n",
       "    </tr>\n",
       "  </tbody>\n",
       "</table>\n",
       "</div>"
      ],
      "text/plain": [
       "        2                     Great CD  \\\n",
       "282165  1           misleading product   \n",
       "19625   2                   Clinometer   \n",
       "254348  1                 disappointed   \n",
       "242169  2  Great item that works well!   \n",
       "46007   1                    Explicit!   \n",
       "\n",
       "       My lovely Pat has one of the GREAT voices of her generation. I have listened to this CD for YEARS and I still LOVE IT. When I'm in a good mood it makes me feel better. A bad mood just evaporates like sugar in the rain. This CD just oozes LIFE. Vocals are jusat STUUNNING and lyrics just kill. One of life's hidden gems. This is a desert isle CD in my book. Why she never made it big is just beyond me. Everytime I play this, no matter black, white, young, old, male, female EVERYBODY says one thing \"Who was that singing ?\"  \n",
       "282165  this is NOT an \"ultralight\" walker... those ar...                                                                                                                                                                                                                                                                                                                                                                                                                                                                                           \n",
       "19625   Was a gift for my husband - per his request (s...                                                                                                                                                                                                                                                                                                                                                                                                                                                                                           \n",
       "254348  I have not yet gotten this to work. It worked ...                                                                                                                                                                                                                                                                                                                                                                                                                                                                                           \n",
       "242169  I have used this groomer a couple of times and...                                                                                                                                                                                                                                                                                                                                                                                                                                                                                           \n",
       "46007   Disappointing! This was the first Linda Lael M...                                                                                                                                                                                                                                                                                                                                                                                                                                                                                           "
      ]
     },
     "execution_count": 71,
     "metadata": {},
     "output_type": "execute_result"
    }
   ],
   "source": [
    "# Getting a quick overview of the dataset\n",
    "df.info()\n",
    "df.head()"
   ]
  },
  {
   "cell_type": "code",
   "execution_count": 72,
   "metadata": {},
   "outputs": [
    {
     "data": {
      "text/html": [
       "<div>\n",
       "<style scoped>\n",
       "    .dataframe tbody tr th:only-of-type {\n",
       "        vertical-align: middle;\n",
       "    }\n",
       "\n",
       "    .dataframe tbody tr th {\n",
       "        vertical-align: top;\n",
       "    }\n",
       "\n",
       "    .dataframe thead th {\n",
       "        text-align: right;\n",
       "    }\n",
       "</style>\n",
       "<table border=\"1\" class=\"dataframe\">\n",
       "  <thead>\n",
       "    <tr style=\"text-align: right;\">\n",
       "      <th></th>\n",
       "      <th>polarity</th>\n",
       "      <th>title</th>\n",
       "      <th>text</th>\n",
       "    </tr>\n",
       "  </thead>\n",
       "  <tbody>\n",
       "    <tr>\n",
       "      <th>282165</th>\n",
       "      <td>1</td>\n",
       "      <td>misleading product</td>\n",
       "      <td>this is NOT an \"ultralight\" walker... those ar...</td>\n",
       "    </tr>\n",
       "    <tr>\n",
       "      <th>19625</th>\n",
       "      <td>2</td>\n",
       "      <td>Clinometer</td>\n",
       "      <td>Was a gift for my husband - per his request (s...</td>\n",
       "    </tr>\n",
       "    <tr>\n",
       "      <th>254348</th>\n",
       "      <td>1</td>\n",
       "      <td>disappointed</td>\n",
       "      <td>I have not yet gotten this to work. It worked ...</td>\n",
       "    </tr>\n",
       "    <tr>\n",
       "      <th>242169</th>\n",
       "      <td>2</td>\n",
       "      <td>Great item that works well!</td>\n",
       "      <td>I have used this groomer a couple of times and...</td>\n",
       "    </tr>\n",
       "    <tr>\n",
       "      <th>46007</th>\n",
       "      <td>1</td>\n",
       "      <td>Explicit!</td>\n",
       "      <td>Disappointing! This was the first Linda Lael M...</td>\n",
       "    </tr>\n",
       "  </tbody>\n",
       "</table>\n",
       "</div>"
      ],
      "text/plain": [
       "        polarity                        title  \\\n",
       "282165         1           misleading product   \n",
       "19625          2                   Clinometer   \n",
       "254348         1                 disappointed   \n",
       "242169         2  Great item that works well!   \n",
       "46007          1                    Explicit!   \n",
       "\n",
       "                                                     text  \n",
       "282165  this is NOT an \"ultralight\" walker... those ar...  \n",
       "19625   Was a gift for my husband - per his request (s...  \n",
       "254348  I have not yet gotten this to work. It worked ...  \n",
       "242169  I have used this groomer a couple of times and...  \n",
       "46007   Disappointing! This was the first Linda Lael M...  "
      ]
     },
     "execution_count": 72,
     "metadata": {},
     "output_type": "execute_result"
    }
   ],
   "source": [
    "# Renaming columns. Inspiration from Method three: https://www.geeksforgeeks.org/how-to-rename-columns-in-pandas-dataframe/\n",
    "df.set_axis(['polarity', 'title', 'text'], axis='columns', inplace=True)\n",
    "df.head()"
   ]
  },
  {
   "cell_type": "code",
   "execution_count": 86,
   "metadata": {},
   "outputs": [
    {
     "data": {
      "text/html": [
       "<div>\n",
       "<style scoped>\n",
       "    .dataframe tbody tr th:only-of-type {\n",
       "        vertical-align: middle;\n",
       "    }\n",
       "\n",
       "    .dataframe tbody tr th {\n",
       "        vertical-align: top;\n",
       "    }\n",
       "\n",
       "    .dataframe thead th {\n",
       "        text-align: right;\n",
       "    }\n",
       "</style>\n",
       "<table border=\"1\" class=\"dataframe\">\n",
       "  <thead>\n",
       "    <tr style=\"text-align: right;\">\n",
       "      <th></th>\n",
       "      <th>title</th>\n",
       "      <th>text</th>\n",
       "    </tr>\n",
       "  </thead>\n",
       "  <tbody>\n",
       "    <tr>\n",
       "      <th>282165</th>\n",
       "      <td>misleading product</td>\n",
       "      <td>this is NOT an \"ultralight\" walker... those ar...</td>\n",
       "    </tr>\n",
       "    <tr>\n",
       "      <th>19625</th>\n",
       "      <td>Clinometer</td>\n",
       "      <td>Was a gift for my husband - per his request (s...</td>\n",
       "    </tr>\n",
       "    <tr>\n",
       "      <th>254348</th>\n",
       "      <td>disappointed</td>\n",
       "      <td>I have not yet gotten this to work. It worked ...</td>\n",
       "    </tr>\n",
       "    <tr>\n",
       "      <th>242169</th>\n",
       "      <td>Great item that works well!</td>\n",
       "      <td>I have used this groomer a couple of times and...</td>\n",
       "    </tr>\n",
       "    <tr>\n",
       "      <th>46007</th>\n",
       "      <td>Explicit!</td>\n",
       "      <td>Disappointing! This was the first Linda Lael M...</td>\n",
       "    </tr>\n",
       "  </tbody>\n",
       "</table>\n",
       "</div>"
      ],
      "text/plain": [
       "                              title  \\\n",
       "282165           misleading product   \n",
       "19625                    Clinometer   \n",
       "254348                 disappointed   \n",
       "242169  Great item that works well!   \n",
       "46007                     Explicit!   \n",
       "\n",
       "                                                     text  \n",
       "282165  this is NOT an \"ultralight\" walker... those ar...  \n",
       "19625   Was a gift for my husband - per his request (s...  \n",
       "254348  I have not yet gotten this to work. It worked ...  \n",
       "242169  I have used this groomer a couple of times and...  \n",
       "46007   Disappointing! This was the first Linda Lael M...  "
      ]
     },
     "execution_count": 86,
     "metadata": {},
     "output_type": "execute_result"
    }
   ],
   "source": [
    "#Assigning the text column to X and the emotions to y. https://medium.com/codex/how-to-set-x-and-y-in-pandas-3f38584e9bed\n",
    "y_col = 'polarity'\n",
    "y = df[y_col]\n",
    "X = df[df.columns.drop(y_col)]\n",
    "X.head()"
   ]
  },
  {
   "cell_type": "code",
   "execution_count": 87,
   "metadata": {},
   "outputs": [
    {
     "data": {
      "text/plain": [
       "282165    1\n",
       "19625     2\n",
       "254348    1\n",
       "242169    2\n",
       "46007     1\n",
       "Name: polarity, dtype: int64"
      ]
     },
     "execution_count": 87,
     "metadata": {},
     "output_type": "execute_result"
    }
   ],
   "source": [
    "y.head()"
   ]
  },
  {
   "cell_type": "code",
   "execution_count": 88,
   "metadata": {},
   "outputs": [],
   "source": [
    "# Train test splitting the data.\n",
    "X_train, X_test, y_train, y_test = train_test_split(X, y, test_size=0.33, random_state=42)"
   ]
  },
  {
   "cell_type": "code",
   "execution_count": 89,
   "metadata": {},
   "outputs": [
    {
     "data": {
      "text/plain": [
       "<2x2 sparse matrix of type '<class 'numpy.int64'>'\n",
       "\twith 2 stored elements in Compressed Sparse Row format>"
      ]
     },
     "execution_count": 89,
     "metadata": {},
     "output_type": "execute_result"
    }
   ],
   "source": [
    "# Using the count vectorizer https://www.geeksforgeeks.org/using-countvectorizer-to-extracting-features-from-text/\n",
    "vectorizer = CountVectorizer()\n",
    " \n",
    "#Fitting on the X_train data\n",
    "vectorizer.fit(X_train)\n",
    "\n",
    "#Transforming both the training and test data\n",
    "X_train0 = vectorizer.transform(X_train)\n",
    "X_test0 = vectorizer.transform(X_test)\n",
    "\n",
    "#Viewing the data\n",
    "X_train0"
   ]
  },
  {
   "cell_type": "code",
   "execution_count": 90,
   "metadata": {},
   "outputs": [
    {
     "data": {
      "image/png": "[encoded data removed]",
      "text/plain": [
       "<Figure size 1000x500 with 1 Axes>"
      ]
     },
     "metadata": {},
     "output_type": "display_data"
    }
   ],
   "source": [
    "# Displaying the data to get a better understanding. Code taken from LAB4\n",
    "def top_n_tokens(X, cv, N, plot=True):\n",
    "    sum_words = X.sum(axis=0)\n",
    "    words_freq = [(word, sum_words[0, idx]) for word, idx in cv.vocabulary_.items()]\n",
    "    top_words_freq = sorted(words_freq, key = lambda x: x[1], reverse=True)[:N]\n",
    "\n",
    "    if plot:\n",
    "        plt.figure(figsize=(10, 5))\n",
    "        plt.bar([w[0] for w in top_words_freq], [w[1] for w in top_words_freq])\n",
    "        plt.xticks(rotation=45)\n",
    "        plt.xlabel('Token')\n",
    "        plt.ylabel('Frequency')\n",
    "        plt.show()\n",
    "    else:\n",
    "        return top_words_freq\n",
    "    \n",
    "top_n_tokens(\n",
    "    X= X_train0, \n",
    "    cv= vectorizer, \n",
    "    N=20\n",
    ")"
   ]
  },
  {
   "cell_type": "code",
   "execution_count": null,
   "metadata": {},
   "outputs": [],
   "source": []
  }
 ],
 "metadata": {
  "kernelspec": {
   "display_name": "base",
   "language": "python",
   "name": "python3"
  },
  "language_info": {
   "codemirror_mode": {
    "name": "ipython",
    "version": 3
   },
   "file_extension": ".py",
   "mimetype": "text/x-python",
   "name": "python",
   "nbconvert_exporter": "python",
   "pygments_lexer": "ipython3",
   "version": "3.9.12"
  },
  "orig_nbformat": 4
 },
 "nbformat": 4,
 "nbformat_minor": 2
}

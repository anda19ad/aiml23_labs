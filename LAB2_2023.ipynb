{
 "cells": [
  {
   "cell_type": "code",
   "execution_count": 1,
   "metadata": {
    "hide_input": false
   },
   "outputs": [],
   "source": [
    "# core\n",
    "import numpy as np\n",
    "import pandas as pd\n",
    "import matplotlib.pyplot as plt\n",
    "\n",
    "# sklearn\n",
    "from sklearn.model_selection import train_test_split\n",
    "from sklearn.metrics import accuracy_score\n",
    "from sklearn.metrics import classification_report\n",
    "from sklearn.neighbors import KNeighborsClassifier\n",
    "from sklearn.linear_model import LogisticRegression\n",
    "from sklearn.tree import DecisionTreeClassifier\n",
    "from sklearn.ensemble import RandomForestClassifier\n",
    "from sklearn.neural_network import MLPClassifier\n",
    "from sklearn.preprocessing import StandardScaler\n",
    "\n",
    "# For Grid search\n",
    "from sklearn.model_selection import GridSearchCV\n",
    "\n",
    "# data\n",
    "from sklearn.datasets import load_breast_cancer\n",
    "%matplotlib inline"
   ]
  },
  {
   "cell_type": "markdown",
   "metadata": {},
   "source": [
    "# Supervised Learning - Classification "
   ]
  },
  {
   "cell_type": "markdown",
   "metadata": {},
   "source": [
    "### Cancer Dataset"
   ]
  },
  {
   "cell_type": "code",
   "execution_count": 2,
   "metadata": {},
   "outputs": [
    {
     "name": "stdout",
     "output_type": "stream",
     "text": [
      ".. _breast_cancer_dataset:\n",
      "\n",
      "Breast cancer wisconsin (diagnostic) dataset\n",
      "--------------------------------------------\n",
      "\n",
      "**Data Set Characteristics:**\n",
      "\n",
      "    :Number of Instances: 569\n",
      "\n",
      "    :Number of Attributes: 30 numeric, predictive attributes and the class\n",
      "\n",
      "    :Attribute Information:\n",
      "        - radius (mean of distances from center to points on the perimeter)\n",
      "        - texture (standard deviation of gray-scale values)\n",
      "        - perimeter\n",
      "        - area\n",
      "        - smoothness (local variation in radius lengths)\n",
      "        - compactness (perimeter^2 / area - 1.0)\n",
      "        - concavity (severity of concave portions of the contour)\n",
      "        - concave points (number of concave portions of the contour)\n",
      "        - symmetry\n",
      "        - fractal dimension (\"coastline approximation\" - 1)\n",
      "\n",
      "        The mean, standard error, and \"worst\" or largest (mean of the three\n",
      "        worst/largest values) of these features were computed for each image,\n",
      "        resulting in 30 features.  For instance, field 0 is Mean Radius, field\n",
      "        10 is Radius SE, field 20 is Worst Radius.\n",
      "\n",
      "        - class:\n",
      "                - WDBC-Malignant\n",
      "                - WDBC-Benign\n",
      "\n",
      "    :Summary Statistics:\n",
      "\n",
      "    ===================================== ====== ======\n",
      "                                           Min    Max\n",
      "    ===================================== ====== ======\n",
      "    radius (mean):                        6.981  28.11\n",
      "    texture (mean):                       9.71   39.28\n",
      "    perimeter (mean):                     43.79  188.5\n",
      "    area (mean):                          143.5  2501.0\n",
      "    smoothness (mean):                    0.053  0.163\n",
      "    compactness (mean):                   0.019  0.345\n",
      "    concavity (mean):                     0.0    0.427\n",
      "    concave points (mean):                0.0    0.201\n",
      "    symmetry (mean):                      0.106  0.304\n",
      "    fractal dimension (mean):             0.05   0.097\n",
      "    radius (standard error):              0.112  2.873\n",
      "    texture (standard error):             0.36   4.885\n",
      "    perimeter (standard error):           0.757  21.98\n",
      "    area (standard error):                6.802  542.2\n",
      "    smoothness (standard error):          0.002  0.031\n",
      "    compactness (standard error):         0.002  0.135\n",
      "    concavity (standard error):           0.0    0.396\n",
      "    concave points (standard error):      0.0    0.053\n",
      "    symmetry (standard error):            0.008  0.079\n",
      "    fractal dimension (standard error):   0.001  0.03\n",
      "    radius (worst):                       7.93   36.04\n",
      "    texture (worst):                      12.02  49.54\n",
      "    perimeter (worst):                    50.41  251.2\n",
      "    area (worst):                         185.2  4254.0\n",
      "    smoothness (worst):                   0.071  0.223\n",
      "    compactness (worst):                  0.027  1.058\n",
      "    concavity (worst):                    0.0    1.252\n",
      "    concave points (worst):               0.0    0.291\n",
      "    symmetry (worst):                     0.156  0.664\n",
      "    fractal dimension (worst):            0.055  0.208\n",
      "    ===================================== ====== ======\n",
      "\n",
      "    :Missing Attribute Values: None\n",
      "\n",
      "    :Class Distribution: 212 - Malignant, 357 - Benign\n",
      "\n",
      "    :Creator:  Dr. William H. Wolberg, W. Nick Street, Olvi L. Mangasarian\n",
      "\n",
      "    :Donor: Nick Street\n",
      "\n",
      "    :Date: November, 1995\n",
      "\n",
      "This is a copy of UCI ML Breast Cancer Wisconsin (Diagnostic) datasets.\n",
      "https://goo.gl/U2Uwz2\n",
      "\n",
      "Features are computed from a digitized image of a fine needle\n",
      "aspirate (FNA) of a breast mass.  They describe\n",
      "characteristics of the cell nuclei present in the image.\n",
      "\n",
      "Separating plane described above was obtained using\n",
      "Multisurface Method-Tree (MSM-T) [K. P. Bennett, \"Decision Tree\n",
      "Construction Via Linear Programming.\" Proceedings of the 4th\n",
      "Midwest Artificial Intelligence and Cognitive Science Society,\n",
      "pp. 97-101, 1992], a classification method which uses linear\n",
      "programming to construct a decision tree.  Relevant features\n",
      "were selected using an exhaustive search in the space of 1-4\n",
      "features and 1-3 separating planes.\n",
      "\n",
      "The actual linear program used to obtain the separating plane\n",
      "in the 3-dimensional space is that described in:\n",
      "[K. P. Bennett and O. L. Mangasarian: \"Robust Linear\n",
      "Programming Discrimination of Two Linearly Inseparable Sets\",\n",
      "Optimization Methods and Software 1, 1992, 23-34].\n",
      "\n",
      "This database is also available through the UW CS ftp server:\n",
      "\n",
      "ftp ftp.cs.wisc.edu\n",
      "cd math-prog/cpo-dataset/machine-learn/WDBC/\n",
      "\n",
      ".. topic:: References\n",
      "\n",
      "   - W.N. Street, W.H. Wolberg and O.L. Mangasarian. Nuclear feature extraction \n",
      "     for breast tumor diagnosis. IS&T/SPIE 1993 International Symposium on \n",
      "     Electronic Imaging: Science and Technology, volume 1905, pages 861-870,\n",
      "     San Jose, CA, 1993.\n",
      "   - O.L. Mangasarian, W.N. Street and W.H. Wolberg. Breast cancer diagnosis and \n",
      "     prognosis via linear programming. Operations Research, 43(4), pages 570-577, \n",
      "     July-August 1995.\n",
      "   - W.H. Wolberg, W.N. Street, and O.L. Mangasarian. Machine learning techniques\n",
      "     to diagnose breast cancer from fine-needle aspirates. Cancer Letters 77 (1994) \n",
      "     163-171.\n"
     ]
    }
   ],
   "source": [
    "data = load_breast_cancer()\n",
    "print(data[\"DESCR\"])"
   ]
  },
  {
   "cell_type": "code",
   "execution_count": 3,
   "metadata": {},
   "outputs": [],
   "source": [
    "(\n",
    "    X_train,\n",
    "    X_test,\n",
    "    y_train,\n",
    "    y_test\n",
    ") = train_test_split(\n",
    "    data.data, \n",
    "    data.target, \n",
    "    stratify=data.target,\n",
    "    test_size = 0.33,\n",
    "    random_state=0\n",
    ")"
   ]
  },
  {
   "cell_type": "code",
   "execution_count": 4,
   "metadata": {},
   "outputs": [
    {
     "data": {
      "image/png": "[encoded data removed]",
      "text/plain": [
       "<Figure size 1000x1000 with 30 Axes>"
      ]
     },
     "metadata": {},
     "output_type": "display_data"
    }
   ],
   "source": [
    "dataf = (\n",
    "    pd.DataFrame(X_train, columns=data[\"feature_names\"])\n",
    "    .assign(target=y_train)\n",
    ")\n",
    "fig, axes = plt.subplots(figsize=(20,20), dpi=50, nrows=6, ncols=5)\n",
    "\n",
    "# BLUE COLOR == 'benign', RED COLOR == 'malignant'\n",
    "dataf[dataf[\"target\"] == 0].drop(\"target\", axis=1).hist(ax=axes, alpha=1, label='benign',color='b')\n",
    "dataf[dataf[\"target\"] == 1].drop(\"target\", axis=1).hist(ax=axes, alpha=0.5, label='malignant',color='r');\n",
    "del dataf, fig, axes # free memory"
   ]
  },
  {
   "cell_type": "markdown",
   "metadata": {},
   "source": [
    "## Question 1\n",
    "Exploratory data analysis (EDA)\n",
    "- Print the target counts for your training data. \n",
    "- Explain, briefly and in bullets, what we may learn from the feature plots above. (For example, which features seem to be best differentiators between the two classes - benign and malignant) - BLUE COLOR == 'benign', RED COLOR == 'malignant'\n",
    "- Based on the distributions above, would scaling be required for, say, a neural network?\n",
    "<br>\n",
    "\n",
    "- Industry reflections: Consider the data and its size. For this domain, is it enough data? Would you ask the domain experts anything?"
   ]
  },
  {
   "cell_type": "code",
   "execution_count": 5,
   "metadata": {},
   "outputs": [
    {
     "data": {
      "text/plain": [
       "array([142, 239], dtype=int64)"
      ]
     },
     "execution_count": 5,
     "metadata": {},
     "output_type": "execute_result"
    }
   ],
   "source": [
    "# Counting the data of the training data. https://numpy.org/doc/stable/reference/generated/numpy.bincount.html\n",
    "np.bincount(y_train)\n"
   ]
  },
  {
   "cell_type": "code",
   "execution_count": 6,
   "metadata": {},
   "outputs": [
    {
     "data": {
      "text/plain": [
       "array(['malignant', 'benign'], dtype='<U9')"
      ]
     },
     "execution_count": 6,
     "metadata": {},
     "output_type": "execute_result"
    }
   ],
   "source": [
    "# Showing the order in which the counts are shown\n",
    "data.target_names"
   ]
  },
  {
   "cell_type": "markdown",
   "metadata": {},
   "source": [
    "### Question 2\n",
    "Create a KNeighborsClassifier for the above train and test data. Print the training and test accuracy. \n",
    "- (If using gridsearch on (X_train, y_train), document your choices of model parameters and ranges.)\n",
    "- Bonus: Use .predict_proba and plot the result using plt.hist(probas[:, 1]) - What can this tell us?"
   ]
  },
  {
   "cell_type": "code",
   "execution_count": 7,
   "metadata": {},
   "outputs": [
    {
     "name": "stdout",
     "output_type": "stream",
     "text": [
      "Fitting 2 folds for each of 6 candidates, totalling 12 fits\n",
      "[CV 1/2] END ....n_neighbors=5, weights=uniform;, score=0.927 total time=   0.1s\n",
      "[CV 2/2] END ....n_neighbors=5, weights=uniform;, score=0.932 total time=   0.0s\n",
      "[CV 1/2] END ...n_neighbors=5, weights=distance;, score=0.942 total time=   0.0s\n",
      "[CV 2/2] END ...n_neighbors=5, weights=distance;, score=0.921 total time=   0.0s\n",
      "[CV 1/2] END ...n_neighbors=10, weights=uniform;, score=0.916 total time=   0.0s\n",
      "[CV 2/2] END ...n_neighbors=10, weights=uniform;, score=0.932 total time=   0.0s\n",
      "[CV 1/2] END ..n_neighbors=10, weights=distance;, score=0.916 total time=   0.0s\n",
      "[CV 2/2] END ..n_neighbors=10, weights=distance;, score=0.932 total time=   0.0s\n",
      "[CV 1/2] END ...n_neighbors=20, weights=uniform;, score=0.911 total time=   0.0s\n",
      "[CV 2/2] END ...n_neighbors=20, weights=uniform;, score=0.889 total time=   0.0s\n",
      "[CV 1/2] END ..n_neighbors=20, weights=distance;, score=0.911 total time=   0.0s\n",
      "[CV 2/2] END ..n_neighbors=20, weights=distance;, score=0.932 total time=   0.0s\n"
     ]
    },
    {
     "data": {
      "text/plain": [
       "(0.931730504271149, {'n_neighbors': 5, 'weights': 'distance'})"
      ]
     },
     "execution_count": 7,
     "metadata": {},
     "output_type": "execute_result"
    }
   ],
   "source": [
    "# Creating a model\n",
    "knn = KNeighborsClassifier()\n",
    "\n",
    "# Preparing params for GridSearch\n",
    "params = {'n_neighbors':[5,10,20], 'weights':['uniform','distance']}\n",
    "\n",
    "# Implementing Gridsearch\n",
    "knn_grid = GridSearchCV(estimator=knn,\n",
    "                    param_grid=params,\n",
    "                    cv=2, # We are not asked to use cross validation, there it is set to 1.\n",
    "                    verbose=3) # Setting verbose on 3 to see the different results from the iterations\n",
    "\n",
    "# Fitting the model on the val data instead of the normal train data\n",
    "knn_grid.fit(X_train, y_train)\n",
    "\n",
    "# Assessing the score and the parameters\n",
    "knn_grid.best_score_, knn_grid.best_params_"
   ]
  },
  {
   "cell_type": "code",
   "execution_count": 8,
   "metadata": {},
   "outputs": [
    {
     "name": "stdout",
     "output_type": "stream",
     "text": [
      "Accuracy on test set: 0.915\n"
     ]
    }
   ],
   "source": [
    "# Using the best model, made from the grid search.\n",
    "# Seeing the result on the test set although you are not supposed to fit the model based on test set.\n",
    "print(\"Accuracy on test set: {:.3f}\".format(knn_grid.score(X_test, y_test)))"
   ]
  },
  {
   "cell_type": "code",
   "execution_count": 9,
   "metadata": {},
   "outputs": [
    {
     "name": "stdout",
     "output_type": "stream",
     "text": [
      "Accuracy on training set: 1.000\n",
      "Accuracy on test set: 0.915\n"
     ]
    }
   ],
   "source": [
    "# Making another model with the same parameters\n",
    "knn_1 = KNeighborsClassifier(n_neighbors=5, weights='distance')\n",
    "\n",
    "knn_1.fit(X_train, y_train)\n",
    "\n",
    "print(\"Accuracy on training set: {:.3f}\".format(knn_1.score(X_train, y_train)))\n",
    "print(\"Accuracy on test set: {:.3f}\".format(knn_1.score(X_test, y_test)))"
   ]
  },
  {
   "cell_type": "code",
   "execution_count": 10,
   "metadata": {},
   "outputs": [
    {
     "data": {
      "text/plain": [
       "(array([ 52.,   7.,   2.,   5.,   4.,   0.,   2.,   5.,   7., 104.]),\n",
       " array([0. , 0.1, 0.2, 0.3, 0.4, 0.5, 0.6, 0.7, 0.8, 0.9, 1. ]),\n",
       " <BarContainer object of 10 artists>)"
      ]
     },
     "execution_count": 10,
     "metadata": {},
     "output_type": "execute_result"
    },
    {
     "data": {
      "image/png": "[encoded data removed]",
      "text/plain": [
       "<Figure size 640x480 with 1 Axes>"
      ]
     },
     "metadata": {},
     "output_type": "display_data"
    }
   ],
   "source": [
    "# Using the predict_proba function and afterwards displaying it.\n",
    "probas = knn_grid.predict_proba(X_test)\n",
    "\n",
    "# Displaying the result. Not sure whaat this tells us?\n",
    "plt.hist(probas[:, 1])"
   ]
  },
  {
   "cell_type": "markdown",
   "metadata": {},
   "source": [
    "## Question 3\n",
    "We'd like to try several other models. To save some work, write a function called eval_model that takes two arguments\n",
    "<ul>\n",
    "    <li>model: an instantiated classifier model</li>\n",
    "    <li>name: a string, eg, \"knn\"</li>\n",
    "</ul>\n",
    "    \n",
    "You can create a model like this:\n",
    "\n",
    "knn = KNeighborsClassifier()\n",
    "\n",
    "Then you can pass knn to the function as the model. The function should fit the model to X_train, and y_train, which should already be defined as global variables. Then it should score to model on the training and test data. X_test and y_test should also be defined as global variables.\n",
    "\n",
    "- You can use gridsearch in the function. Same rules as stated in Q2\n",
    "\n",
    "\n"
   ]
  },
  {
   "cell_type": "code",
   "execution_count": 11,
   "metadata": {},
   "outputs": [
    {
     "name": "stdout",
     "output_type": "stream",
     "text": [
      "KNN\n",
      "Accuracy on training set: 0.945\n",
      "Accuracy on test set: 0.915\n",
      " \n",
      "DTC\n",
      "Accuracy on training set: 1.000\n",
      "Accuracy on test set: 0.931\n",
      " \n",
      "MLP\n",
      "Accuracy on training set: 0.948\n",
      "Accuracy on test set: 0.941\n",
      " \n"
     ]
    }
   ],
   "source": [
    "# Making a model for evaluating multiple models at one time\n",
    "def eval_model(model,name):\n",
    "    model.fit(X_train, y_train)\n",
    "    print(name)\n",
    "    print(\"Accuracy on training set: {:.3f}\".format(model.score(X_train, y_train)))\n",
    "    print(\"Accuracy on test set: {:.3f}\".format(model.score(X_test, y_test)))\n",
    "    print(\" \")\n",
    "    \n",
    "    \n",
    "# Setting up variable to be put in the function eval_model\n",
    "knn = KNeighborsClassifier()\n",
    "dtc = DecisionTreeClassifier()\n",
    "mlp = MLPClassifier(max_iter=10000)\n",
    "    \n",
    "# Evaluating the different models\n",
    "eval_model(knn, 'KNN')\n",
    "eval_model(dtc, 'DTC')\n",
    "eval_model(mlp, 'MLP')\n"
   ]
  },
  {
   "cell_type": "code",
   "execution_count": 12,
   "metadata": {},
   "outputs": [
    {
     "name": "stdout",
     "output_type": "stream",
     "text": [
      "KNN\n",
      "Accuracy on training set: 0.945\n",
      "Accuracy on test set: 0.915\n",
      "Best params:  {'n_neighbors': 5}\n",
      " \n"
     ]
    }
   ],
   "source": [
    "# Here a function that incoporates GridSearch. Output is accuracy and the best params.\n",
    "def eval_model(model, params, name):\n",
    "    grid = GridSearchCV(estimator=model, # The desired model is called from the model that is to be defined\n",
    "                    param_grid=params, # The object is called by the later defined variable\n",
    "                    cv=2)  # Using cross validation\n",
    "    grid.fit(X_train, y_train)\n",
    "    print(name)\n",
    "    print(\"Accuracy on training set: {:.3f}\".format(grid.score(X_train, y_train)))\n",
    "    print(\"Accuracy on test set: {:.3f}\".format(grid.score(X_test, y_test)))\n",
    "    print(\"Best params: \", grid.best_params_) # Printing the best params\n",
    "    print(\" \")\n",
    "    \n",
    "# Setting up variables for the models to be tested. Next Params are defined for the gridSearch to be put in the function eval_model\n",
    "knn = KNeighborsClassifier()\n",
    "knnParams = {'n_neighbors':[5,10,15]}\n",
    "\n",
    "    \n",
    "# Evaluating the model, which in this case also works as a test\n",
    "eval_model(knn, knnParams, 'KNN')\n"
   ]
  },
  {
   "cell_type": "markdown",
   "metadata": {},
   "source": [
    "## Question 4\n",
    "Now use eval_model to evaluate LogisticRegression, DecisionTreeClassifier, RandomForestClassifier and MLPClassifier. \n",
    "- Bonus: Plot the train and test accuracies for all estimators in a bar chart (Is this a fair comparison?)\n",
    " "
   ]
  },
  {
   "cell_type": "code",
   "execution_count": 13,
   "metadata": {},
   "outputs": [
    {
     "name": "stdout",
     "output_type": "stream",
     "text": [
      "lr\n",
      "Accuracy on training set: 0.958\n",
      "Accuracy on test set: 0.947\n",
      "Best params:  {'C': 0.01}\n",
      " \n",
      "DTC\n",
      "Accuracy on training set: 0.966\n",
      "Accuracy on test set: 0.931\n",
      "Best params:  {'max_depth': 3, 'min_samples_leaf': 5}\n",
      " \n",
      "RFC\n",
      "Accuracy on training set: 0.997\n",
      "Accuracy on test set: 0.947\n",
      "Best params:  {'max_depth': 5, 'n_estimators': 10}\n",
      " \n",
      "MLP\n",
      "Accuracy on training set: 0.958\n",
      "Accuracy on test set: 0.941\n",
      "Best params:  {'hidden_layer_sizes': 100}\n",
      " \n"
     ]
    }
   ],
   "source": [
    "#Setting up the models with relevant parameters to tune. scikit learn documentation is used for each model to find parameters.\n",
    "lr = LogisticRegression(max_iter=10000)\n",
    "lrParams = {'C':[0.001,0.01,0.1,1,10,100]} \n",
    "\n",
    "dtc = DecisionTreeClassifier()\n",
    "dtcParams = {'max_depth':[3,4,5,6], 'min_samples_leaf':[5,7,9,11]} # Based on the size of the data set these values seem appropriate \n",
    "\n",
    "rfc = RandomForestClassifier()\n",
    "rfcParams = {'n_estimators':[10,60,110,160], 'max_depth':[3,5,7] } # Again taken the size of the dataset in mind, these values seems appropriate\n",
    "\n",
    "mlp = MLPClassifier(max_iter=10000)\n",
    "mlpParams = {'hidden_layer_sizes':[50,100,150]}\n",
    "\n",
    "# Running eval_model to see the different results from all the models\n",
    "eval_model(lr, lrParams, 'lr')\n",
    "eval_model(dtc, dtcParams, 'DTC')\n",
    "eval_model(rfc, rfcParams,'RFC')\n",
    "eval_model(mlp, mlpParams, 'MLP')"
   ]
  },
  {
   "cell_type": "code",
   "execution_count": 14,
   "metadata": {},
   "outputs": [],
   "source": [
    "# Plotting all the accuracies in a bar chart\n"
   ]
  },
  {
   "cell_type": "markdown",
   "metadata": {},
   "source": [
    "Question 5:\n",
    "Apply a scaling method (e.g., standard scaling) to your data and repeat question 4 with the scaled data.\n",
    "- Remember that (X_test, y_test) are meant to be unseen data. Use this to decide what the scaler should fit to and transform on.\n",
    "- Report the results of scaling the data\n",
    "- Bonus: Explain what the scaler accomplishes for us."
   ]
  },
  {
   "cell_type": "code",
   "execution_count": 15,
   "metadata": {},
   "outputs": [],
   "source": [
    "# First the data is scaled with the scaler function. https://www.digitalocean.com/community/tutorials/standardscaler-function-in-python\n",
    "scaler = StandardScaler() # Getting the scaler model\n",
    "\n",
    "# Scaling the data. The target variable is not scaled, since it is binary.\n",
    "X_trainS = scaler.fit_transform(X_train)\n",
    "X_testS = scaler.fit_transform(X_test)\n",
    "\n",
    "# Checking the result of the scaling\n",
    "# X_trainS, X_testS\n"
   ]
  },
  {
   "cell_type": "code",
   "execution_count": 16,
   "metadata": {},
   "outputs": [],
   "source": [
    "# New scaled variables have been made and therefore the model_eval needs a little update with the scaled versions.\n",
    "def eval_modelS(model, params, name):\n",
    "    grid = GridSearchCV(estimator=model, # The desired model is called from the model that is to be defined\n",
    "                    param_grid=params, # The object is called by the later defined variable\n",
    "                    cv=2)  # Using cross validation\n",
    "    grid.fit(X_trainS, y_train) # The scaled version of the data is used to fit the model(s)\n",
    "    print(name)\n",
    "    print(\"Accuracy on training set: {:.3f}\".format(grid.score(X_trainS, y_train)))\n",
    "    print(\"Accuracy on test set: {:.3f}\".format(grid.score(X_testS, y_test)))\n",
    "    print(\"Best params: \", grid.best_params_) # Printing the best params\n",
    "    print(\" \")"
   ]
  },
  {
   "cell_type": "code",
   "execution_count": 17,
   "metadata": {},
   "outputs": [
    {
     "name": "stdout",
     "output_type": "stream",
     "text": [
      "KNN\n",
      "Accuracy on training set: 0.976\n",
      "Accuracy on test set: 0.952\n",
      "Best params:  {'n_neighbors': 5}\n",
      " \n",
      "lr\n",
      "Accuracy on training set: 0.992\n",
      "Accuracy on test set: 0.968\n",
      "Best params:  {'C': 1}\n",
      " \n",
      "DTC\n",
      "Accuracy on training set: 0.966\n",
      "Accuracy on test set: 0.920\n",
      "Best params:  {'max_depth': 3, 'min_samples_leaf': 5}\n",
      " \n",
      "RFC\n",
      "Accuracy on training set: 1.000\n",
      "Accuracy on test set: 0.947\n",
      "Best params:  {'max_depth': 7, 'n_estimators': 60}\n",
      " \n",
      "MLP\n",
      "Accuracy on training set: 0.997\n",
      "Accuracy on test set: 0.957\n",
      "Best params:  {'hidden_layer_sizes': 100}\n",
      " \n"
     ]
    }
   ],
   "source": [
    "# The new evaluation models is used, eval_modelS to see the different results from all the models with the scaled data. Using the same models and params defined eralier including the KNN\n",
    "eval_modelS(knn, knnParams, 'KNN')\n",
    "eval_modelS(lr, lrParams, 'lr')\n",
    "eval_modelS(dtc, dtcParams, 'DTC')\n",
    "eval_modelS(rfc, rfcParams,'RFC')\n",
    "eval_modelS(mlp, mlpParams, 'MLP')"
   ]
  },
  {
   "cell_type": "markdown",
   "metadata": {},
   "source": [
    "## Question 6\n",
    "Train a logistic regression estimator on a scaled version of X_train.\n",
    "\n",
    "Then print the three features with the highest coefficients -- these are the features which the model most strongly links with the target, <i>malignant</i>. Print the three features with the lowest coefficients -- these are the features which the model most strongly links with the target, <i>benign</i>. On each line, print the feature name, followed by its coefficient value.\n",
    "\n",
    "- Bonus: Plot the coefficients in a bar chart (*plt.bar()*) with the variable names on the x axis"
   ]
  },
  {
   "cell_type": "code",
   "execution_count": 18,
   "metadata": {},
   "outputs": [
    {
     "data": {
      "text/html": [
       "<style>#sk-container-id-1 {color: black;background-color: white;}#sk-container-id-1 pre{padding: 0;}#sk-container-id-1 div.sk-toggleable {background-color: white;}#sk-container-id-1 label.sk-toggleable__label {cursor: pointer;display: block;width: 100%;margin-bottom: 0;padding: 0.3em;box-sizing: border-box;text-align: center;}#sk-container-id-1 label.sk-toggleable__label-arrow:before {content: \"▸\";float: left;margin-right: 0.25em;color: #696969;}#sk-container-id-1 label.sk-toggleable__label-arrow:hover:before {color: black;}#sk-container-id-1 div.sk-estimator:hover label.sk-toggleable__label-arrow:before {color: black;}#sk-container-id-1 div.sk-toggleable__content {max-height: 0;max-width: 0;overflow: hidden;text-align: left;background-color: #f0f8ff;}#sk-container-id-1 div.sk-toggleable__content pre {margin: 0.2em;color: black;border-radius: 0.25em;background-color: #f0f8ff;}#sk-container-id-1 input.sk-toggleable__control:checked~div.sk-toggleable__content {max-height: 200px;max-width: 100%;overflow: auto;}#sk-container-id-1 input.sk-toggleable__control:checked~label.sk-toggleable__label-arrow:before {content: \"▾\";}#sk-container-id-1 div.sk-estimator input.sk-toggleable__control:checked~label.sk-toggleable__label {background-color: #d4ebff;}#sk-container-id-1 div.sk-label input.sk-toggleable__control:checked~label.sk-toggleable__label {background-color: #d4ebff;}#sk-container-id-1 input.sk-hidden--visually {border: 0;clip: rect(1px 1px 1px 1px);clip: rect(1px, 1px, 1px, 1px);height: 1px;margin: -1px;overflow: hidden;padding: 0;position: absolute;width: 1px;}#sk-container-id-1 div.sk-estimator {font-family: monospace;background-color: #f0f8ff;border: 1px dotted black;border-radius: 0.25em;box-sizing: border-box;margin-bottom: 0.5em;}#sk-container-id-1 div.sk-estimator:hover {background-color: #d4ebff;}#sk-container-id-1 div.sk-parallel-item::after {content: \"\";width: 100%;border-bottom: 1px solid gray;flex-grow: 1;}#sk-container-id-1 div.sk-label:hover label.sk-toggleable__label {background-color: #d4ebff;}#sk-container-id-1 div.sk-serial::before {content: \"\";position: absolute;border-left: 1px solid gray;box-sizing: border-box;top: 0;bottom: 0;left: 50%;z-index: 0;}#sk-container-id-1 div.sk-serial {display: flex;flex-direction: column;align-items: center;background-color: white;padding-right: 0.2em;padding-left: 0.2em;position: relative;}#sk-container-id-1 div.sk-item {position: relative;z-index: 1;}#sk-container-id-1 div.sk-parallel {display: flex;align-items: stretch;justify-content: center;background-color: white;position: relative;}#sk-container-id-1 div.sk-item::before, #sk-container-id-1 div.sk-parallel-item::before {content: \"\";position: absolute;border-left: 1px solid gray;box-sizing: border-box;top: 0;bottom: 0;left: 50%;z-index: -1;}#sk-container-id-1 div.sk-parallel-item {display: flex;flex-direction: column;z-index: 1;position: relative;background-color: white;}#sk-container-id-1 div.sk-parallel-item:first-child::after {align-self: flex-end;width: 50%;}#sk-container-id-1 div.sk-parallel-item:last-child::after {align-self: flex-start;width: 50%;}#sk-container-id-1 div.sk-parallel-item:only-child::after {width: 0;}#sk-container-id-1 div.sk-dashed-wrapped {border: 1px dashed gray;margin: 0 0.4em 0.5em 0.4em;box-sizing: border-box;padding-bottom: 0.4em;background-color: white;}#sk-container-id-1 div.sk-label label {font-family: monospace;font-weight: bold;display: inline-block;line-height: 1.2em;}#sk-container-id-1 div.sk-label-container {text-align: center;}#sk-container-id-1 div.sk-container {/* jupyter's `normalize.less` sets `[hidden] { display: none; }` but bootstrap.min.css set `[hidden] { display: none !important; }` so we also need the `!important` here to be able to override the default hidden behavior on the sphinx rendered scikit-learn.org. See: https://github.com/scikit-learn/scikit-learn/issues/21755 */display: inline-block !important;position: relative;}#sk-container-id-1 div.sk-text-repr-fallback {display: none;}</style><div id=\"sk-container-id-1\" class=\"sk-top-container\"><div class=\"sk-text-repr-fallback\"><pre>LogisticRegression(C=1)</pre><b>In a Jupyter environment, please rerun this cell to show the HTML representation or trust the notebook. <br />On GitHub, the HTML representation is unable to render, please try loading this page with nbviewer.org.</b></div><div class=\"sk-container\" hidden><div class=\"sk-item\"><div class=\"sk-estimator sk-toggleable\"><input class=\"sk-toggleable__control sk-hidden--visually\" id=\"sk-estimator-id-1\" type=\"checkbox\" checked><label for=\"sk-estimator-id-1\" class=\"sk-toggleable__label sk-toggleable__label-arrow\">LogisticRegression</label><div class=\"sk-toggleable__content\"><pre>LogisticRegression(C=1)</pre></div></div></div></div></div>"
      ],
      "text/plain": [
       "LogisticRegression(C=1)"
      ]
     },
     "execution_count": 18,
     "metadata": {},
     "output_type": "execute_result"
    }
   ],
   "source": [
    "# Getting a logistic regression model with the recommended parameters from the earlier grid search\n",
    "lr2 = LogisticRegression(C=1)\n",
    "\n",
    "# Fitting the model on the scaled training set\n",
    "lr2.fit(X_trainS, y_train)"
   ]
  },
  {
   "cell_type": "code",
   "execution_count": 19,
   "metadata": {
    "scrolled": true
   },
   "outputs": [
    {
     "name": "stdout",
     "output_type": "stream",
     "text": [
      "Features with the highest coefficients:\n",
      "[19]: 0.39967782128961965\n",
      "[18]: 0.48603193963311236\n",
      "[15]: 0.5975211218199216\n",
      "Features with the lowest coefficients:\n",
      "[21]: -1.0724828206381871\n",
      "[10]: -1.0580748755106253\n",
      "[7]: -1.0121099296381786\n"
     ]
    }
   ],
   "source": [
    "# Got help from ChatGPT on this one\n",
    "\n",
    "# Getting the feature names. However, i am having troubles with this one. I realize it has something with not using pandas.\n",
    "# feature_names = X_trainS.columns\n",
    "\n",
    "# Getting the coefficients\n",
    "coef = lr2.coef_[0]\n",
    "\n",
    "# Sort the coefficients in descending order. https://numpy.org/doc/stable/reference/generated/numpy.argsort.html\n",
    "sorted_index = np.argsort(coef)\n",
    "\n",
    "# Print the three features with the highest coefficients. If the feature names had worked: print(f\"{feature_names[i]}: {coef[i]}\")\n",
    "print(\"Features with the highest coefficients:\")\n",
    "for i in sorted_index[-3:]:\n",
    "    print(f\"{[i]}: {coef[i]}\")\n",
    "\n",
    "# Print the three features with the lowest coefficients\n",
    "print(\"Features with the lowest coefficients:\")\n",
    "for i in sorted_index[:3]:\n",
    "    print(f\"{[i]}: {coef[i]}\")"
   ]
  },
  {
   "cell_type": "code",
   "execution_count": 23,
   "metadata": {},
   "outputs": [
    {
     "name": "stdout",
     "output_type": "stream",
     "text": [
      "[('compactness error', 0.5975211218199216), ('symmetry error', 0.48603193963311236), ('fractal dimension error', 0.39967782128961965), ('mean compactness', 0.39270520830322125), ('mean fractal dimension', 0.37340666088635205), ('concavity error', 0.10345870287054076), ('mean smoothness', -0.005619749883586474), ('texture error', -0.05108763253922353), ('worst compactness', -0.1317239480519091), ('mean symmetry', -0.1732608030514284), ('smoothness error', -0.2363387674357753), ('concave points error', -0.2860437580867342), ('mean texture', -0.40246546768287916), ('worst smoothness', -0.539211960535426), ('perimeter error', -0.5476779757820659), ('mean perimeter', -0.549192811505257), ('mean radius', -0.5735501260987577), ('worst concavity', -0.6115964432077087), ('mean area', -0.6137494300248938), ('worst symmetry', -0.6516969205931168), ('area error', -0.6651839142682077), ('worst concave points', -0.7399124186717577), ('worst fractal dimension', -0.751458902024378), ('mean concavity', -0.7914531683536086), ('worst perimeter', -0.8488884363024296), ('worst area', -0.8824027533839289), ('worst radius', -0.9946890036057141), ('mean concave points', -1.0121099296381786), ('radius error', -1.0580748755106253), ('worst texture', -1.0724828206381871)]\n"
     ]
    }
   ],
   "source": [
    "# Code from feedback of the hand-in. Need to ask, what to do from here. These are the names, but how do i retreive them?\n",
    "sorted_coefs = sorted ((zip(data.feature_names, coef)), key = lambda e:e[1], reverse=True )\n",
    "print (sorted_coefs)"
   ]
  },
  {
   "cell_type": "markdown",
   "metadata": {},
   "source": [
    "## Question 7\n",
    "Print the 3 features that are the <i>least</i> informative about our target value (Hint: you should use the absolute value of coefficients.)"
   ]
  },
  {
   "cell_type": "code",
   "execution_count": 28,
   "metadata": {},
   "outputs": [
    {
     "name": "stdout",
     "output_type": "stream",
     "text": [
      "Features that are the least informative, based on absolute values:\n"
     ]
    },
    {
     "ename": "IndexError",
     "evalue": "only integers, slices (`:`), ellipsis (`...`), numpy.newaxis (`None`) and integer or boolean arrays are valid indices",
     "output_type": "error",
     "traceback": [
      "\u001b[1;31m---------------------------------------------------------------------------\u001b[0m",
      "\u001b[1;31mIndexError\u001b[0m                                Traceback (most recent call last)",
      "Cell \u001b[1;32mIn[28], line 7\u001b[0m\n\u001b[0;32m      5\u001b[0m \u001b[38;5;28mprint\u001b[39m(\u001b[38;5;124m\"\u001b[39m\u001b[38;5;124mFeatures that are the least informative, based on absolute values:\u001b[39m\u001b[38;5;124m\"\u001b[39m)\n\u001b[0;32m      6\u001b[0m \u001b[38;5;28;01mfor\u001b[39;00m i \u001b[38;5;129;01min\u001b[39;00m c_abs[:\u001b[38;5;241m3\u001b[39m]:\n\u001b[1;32m----> 7\u001b[0m     \u001b[38;5;28mprint\u001b[39m(\u001b[38;5;124mf\u001b[39m\u001b[38;5;124m\"\u001b[39m\u001b[38;5;132;01m{\u001b[39;00m[i]\u001b[38;5;132;01m}\u001b[39;00m\u001b[38;5;124m: \u001b[39m\u001b[38;5;132;01m{\u001b[39;00m\u001b[43mcoef\u001b[49m\u001b[43m[\u001b[49m\u001b[43mi\u001b[49m\u001b[43m]\u001b[49m\u001b[38;5;132;01m}\u001b[39;00m\u001b[38;5;124m\"\u001b[39m)\n",
      "\u001b[1;31mIndexError\u001b[0m: only integers, slices (`:`), ellipsis (`...`), numpy.newaxis (`None`) and integer or boolean arrays are valid indices"
     ]
    }
   ],
   "source": [
    "# I need a bigger hint on this one\n",
    "\n",
    "c_abs = list(map(abs, coef))\n",
    "\n",
    "print(\"Features that are the least informative, based on absolute values:\")\n",
    "for i in c_abs[:3]:\n",
    "    print(f\"{[i]}: {coef[i]}\")"
   ]
  },
  {
   "cell_type": "markdown",
   "metadata": {},
   "source": [
    "## Question 8\n",
    "Use the classification_report function with the logreg model. It takes two arguments:\n",
    "<ul>\n",
    "    <li>y_test: the correct classifications</li>\n",
    "    <li>preds: the model predictions. (You should assign logreg.predict(X_test) to preds.)</li>\n",
    "    </ul>\n",
    "    \n",
    "There is an optional third argument, which is the feature names. You can write target_names=data.target_names.\n",
    "        "
   ]
  },
  {
   "cell_type": "code",
   "execution_count": null,
   "metadata": {},
   "outputs": [],
   "source": [
    "# Predicting\n",
    "preds = lr2.predict(X_testS)\n",
    "\n",
    "# Classification report is printed with the target_names\n",
    "print(classification_report(y_test, preds, target_names=data.target_names))"
   ]
  },
  {
   "cell_type": "markdown",
   "metadata": {},
   "source": [
    "## Question 9\n",
    "For prediction probabilities (.predict_proba), predictions are related to these probabilities as follows: If the second probability is greater than .5, the prediction is 1. Otherwise, it's 0.  \n",
    "\n",
    "1. Use the predict_proba method to get the probabilities of the logreg predictions on the X_test data. \n",
    "- Bonus: As in Q2, plot the the probabilities of class 1 (Malignant) and compare the plot with the same plot from Q2\n",
    "\n",
    "2. Convert the probabilites to an arrray of predictions by mapping the following lambda function <br>\n",
    "lambda a:1 if a[1]>.5 else 0\n",
    "\n",
    "3. Show that the resulting array is equal to the original preds array, e.g., using numpy.array.equal or all()\n",
    "\n",
    "4. Try to make the code below under *'Accuracies over probabilities* work. You need to supply 'preds' (from .predict) and 'probas' (from .predict_proba) - What can the resulting plot tell us about our model?\n"
   ]
  },
  {
   "cell_type": "code",
   "execution_count": null,
   "metadata": {
    "scrolled": true
   },
   "outputs": [],
   "source": [
    "# Predicting probabilities\n",
    "probas_pre = lr2.predict_proba(X_testS)\n",
    "\n",
    "# Displaying with a plot as in Q2\n",
    "plt.hist(probas[:, 1])"
   ]
  },
  {
   "cell_type": "code",
   "execution_count": null,
   "metadata": {
    "scrolled": true
   },
   "outputs": [],
   "source": [
    "# Mapping the probabilities to an array\n",
    "#probas = list(map(lambda x: 0 if x < 0.5 else 1, probas_pre))\n",
    "#print(probas)\n",
    "\n",
    "# Got help from ChatGPT on this one.\n",
    "probas = np.where(probas_pre < 0.5, 0, 1)\n",
    "probas = probas.tolist()\n",
    "print(probas)"
   ]
  },
  {
   "cell_type": "code",
   "execution_count": null,
   "metadata": {},
   "outputs": [],
   "source": [
    "# Showing that the original preds is the same as the new. https://numpy.org/doc/stable/reference/generated/numpy.array_equal.html\n",
    "np.array_equal(preds,probas)"
   ]
  },
  {
   "cell_type": "code",
   "execution_count": null,
   "metadata": {},
   "outputs": [],
   "source": [
    "# Not sure how I should have done differently\n",
    "\n",
    "# Showing each of the two\n",
    "print(np.array(probas), np.array(preds))"
   ]
  },
  {
   "cell_type": "markdown",
   "metadata": {},
   "source": [
    "### Accuracy over probabilities"
   ]
  },
  {
   "cell_type": "code",
   "execution_count": null,
   "metadata": {},
   "outputs": [],
   "source": [
    "preds_df = (\n",
    "    pd.DataFrame(\n",
    "        {\n",
    "            \"preds\": preds, # the predicted class\n",
    "             \"probas\": probas[:, 1], # the predicted probability of class 1\n",
    "             \"y_test\": y_test, # the true class\n",
    "             \"proba_bins\": pd.cut(probas[:, 1], bins=20) # the bins (0.05) of the predicted probability\n",
    "        }\n",
    "    )\n",
    ")\n",
    "\n",
    "intervals, accs = [], []\n",
    "for idx, interval in preds_df.groupby(\"proba_bins\"):\n",
    "    if not interval.empty:\n",
    "        intervals.append(idx.right)\n",
    "        accs.append(accuracy_score(interval[\"y_test\"], interval[\"preds\"]))\n",
    "\n",
    "# plot accs over intervals\n",
    "plt.figure(figsize=(10, 3))\n",
    "plt.plot(intervals, accs) \n",
    "plt.xlabel(\"Probability bins (size 0.1)\")\n",
    "plt.ylabel(\"Accuracy\")\n",
    "plt.ylim(.0, 1.1)\n",
    "plt.title(\"Accuracy over bins of predicted probabilities\");"
   ]
  },
  {
   "cell_type": "markdown",
   "metadata": {},
   "source": [
    "## Question 10\n",
    "Write a function, predict_threshold, that takes two arguments:\n",
    "<ul>\n",
    "    <li>probas: the output of predict_proba (for a binary classification task)</li>\n",
    "    <li>t: a threshold probability. Class 1 is predicted if the probability is greater than t. Otherwise class 0 is predicted.</li>\n",
    "</ul>"
   ]
  },
  {
   "cell_type": "code",
   "execution_count": null,
   "metadata": {},
   "outputs": [],
   "source": [
    "# Making a function that can iterate through different threshold values\n",
    "def predict_threshold (probas,t):\n",
    "    probas = probas.predict_proba(X_testS)\n",
    "    probas = np.where(probas_pre < t, 0, 1)\n",
    "    probas = probas.tolist()\n",
    "    print(probas)\n",
    "\n",
    "# Defining variables\n",
    "model1 = lr2\n",
    "Threshold = [0.5, 0.6, 0.7, 0.8, 0.9]\n",
    "\n",
    "# Applying the function\n",
    "predict_threshold(model1, Threshold)\n",
    "\n",
    "# Unfortunately we see an error here."
   ]
  },
  {
   "cell_type": "markdown",
   "metadata": {},
   "source": [
    "Now produce a classification report for several different thresholds, using the probabilities output by logistic regression for the Cancer data. \n",
    "- Find a threshold that maximizes the precision for benign. \n",
    "- Find a threshold that maximizes precision for malignant. \n",
    "- Experiment with different thresholds -- what do you think is the best theshold for this particular domain - Predicting breast cancer? Why?"
   ]
  },
  {
   "cell_type": "code",
   "execution_count": null,
   "metadata": {},
   "outputs": [],
   "source": []
  }
 ],
 "metadata": {
  "kernelspec": {
   "display_name": "Python 3",
   "language": "python",
   "name": "python3"
  },
  "language_info": {
   "codemirror_mode": {
    "name": "ipython",
    "version": 3
   },
   "file_extension": ".py",
   "mimetype": "text/x-python",
   "name": "python",
   "nbconvert_exporter": "python",
   "pygments_lexer": "ipython3",
   "version": "3.9.2"
  },
  "latex_metadata": {
   "author": "Andreas C. M\\\"ller",
   "title": "Machine Learning with Python"
  },
  "vscode": {
   "interpreter": {
    "hash": "397c3f559c4c493ae5451cc63070de8ebd6a4a4b39c95bdbe2017c224ac93950"
   }
  }
 },
 "nbformat": 4,
 "nbformat_minor": 2
}

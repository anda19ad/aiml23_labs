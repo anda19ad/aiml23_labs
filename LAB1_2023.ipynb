{
 "cells": [
  {
   "cell_type": "markdown",
   "metadata": {},
   "source": [
    "#  Lab 1\n",
    "\n"
   ]
  },
  {
   "cell_type": "markdown",
   "metadata": {},
   "source": [
    "##  Hand-Written Digit Recognition"
   ]
  },
  {
   "cell_type": "code",
   "execution_count": 2,
   "metadata": {
    "hide_input": false
   },
   "outputs": [],
   "source": [
    "# Imports\n",
    "import numpy as np\n",
    "import pandas as df\n",
    "\n",
    "from sklearn.model_selection import train_test_split\n",
    "from sklearn.linear_model import LogisticRegression\n"
   ]
  },
  {
   "cell_type": "markdown",
   "metadata": {},
   "source": [
    "<h1>Import Digits Data</h1>"
   ]
  },
  {
   "cell_type": "code",
   "execution_count": 3,
   "metadata": {},
   "outputs": [],
   "source": [
    "from sklearn import datasets, metrics\n",
    "from sklearn.datasets import load_digits\n",
    "digits = load_digits()"
   ]
  },
  {
   "cell_type": "markdown",
   "metadata": {},
   "source": [
    "<h1>See what they look like</h1>"
   ]
  },
  {
   "cell_type": "code",
   "execution_count": 4,
   "metadata": {},
   "outputs": [
    {
     "data": {
      "image/png": "[encoded data removed]",
      "text/plain": [
       "<Figure size 1000x300 with 5 Axes>"
      ]
     },
     "metadata": {},
     "output_type": "display_data"
    }
   ],
   "source": [
    "import matplotlib.pyplot as plt\n",
    "digits = datasets.load_digits()\n",
    "\n",
    "_, axes = plt.subplots(nrows=1, ncols=5, figsize=(10, 3))\n",
    "for ax, image, label in zip(axes, digits.images, digits.target):\n",
    "    ax.set_axis_off()\n",
    "    ax.imshow(image, cmap=plt.cm.gray_r, interpolation='nearest')\n",
    "    ax.set_title('Training: %i' % label)"
   ]
  },
  {
   "cell_type": "markdown",
   "metadata": {},
   "source": [
    "<h1>Question 0</h1>\n",
    "\n",
    "Split the digits.data and digits.target into train and test data. Create a dummy classifier for the digits data, with a strategy of \"most_frequent\", and print the score on test data. "
   ]
  },
  {
   "cell_type": "code",
   "execution_count": 5,
   "metadata": {},
   "outputs": [],
   "source": [
    "# Defining the X and Y based on the digits.data and digits.target.\n",
    "X = digits.data\n",
    "\n",
    "y = digits.target\n",
    "\n",
    "X_train, X_test, y_train, y_test = train_test_split(X, y, test_size=0.33, random_state=42)"
   ]
  },
  {
   "cell_type": "code",
   "execution_count": 6,
   "metadata": {},
   "outputs": [
    {
     "data": {
      "text/plain": [
       "0.1018363939899833"
      ]
     },
     "execution_count": 6,
     "metadata": {},
     "output_type": "execute_result"
    }
   ],
   "source": [
    "# Creating a dummy classifier. Importing the dummy classifier. Using the documentation: https://scikit-learn.org/stable/modules/generated/sklearn.dummy.DummyClassifier.html\n",
    "from sklearn.dummy import DummyClassifier\n",
    "\n",
    "dummy_clf = DummyClassifier(strategy=\"most_frequent\")\n",
    "dummy_clf.fit(X, y)\n",
    "DummyClassifier(strategy='most_frequent')\n",
    "dummy_clf.predict(X)\n",
    "dummy_clf.score(X, y)\n"
   ]
  },
  {
   "cell_type": "markdown",
   "metadata": {},
   "source": [
    "<h1>Question 1</h1>\n",
    "Create a logistic regression model for the digits data and print the score on test data. Use metrics.classification_report to give a more detailed report of results."
   ]
  },
  {
   "cell_type": "code",
   "execution_count": 7,
   "metadata": {
    "scrolled": true
   },
   "outputs": [
    {
     "data": {
      "text/html": [
       "<style>#sk-container-id-1 {color: black;background-color: white;}#sk-container-id-1 pre{padding: 0;}#sk-container-id-1 div.sk-toggleable {background-color: white;}#sk-container-id-1 label.sk-toggleable__label {cursor: pointer;display: block;width: 100%;margin-bottom: 0;padding: 0.3em;box-sizing: border-box;text-align: center;}#sk-container-id-1 label.sk-toggleable__label-arrow:before {content: \"▸\";float: left;margin-right: 0.25em;color: #696969;}#sk-container-id-1 label.sk-toggleable__label-arrow:hover:before {color: black;}#sk-container-id-1 div.sk-estimator:hover label.sk-toggleable__label-arrow:before {color: black;}#sk-container-id-1 div.sk-toggleable__content {max-height: 0;max-width: 0;overflow: hidden;text-align: left;background-color: #f0f8ff;}#sk-container-id-1 div.sk-toggleable__content pre {margin: 0.2em;color: black;border-radius: 0.25em;background-color: #f0f8ff;}#sk-container-id-1 input.sk-toggleable__control:checked~div.sk-toggleable__content {max-height: 200px;max-width: 100%;overflow: auto;}#sk-container-id-1 input.sk-toggleable__control:checked~label.sk-toggleable__label-arrow:before {content: \"▾\";}#sk-container-id-1 div.sk-estimator input.sk-toggleable__control:checked~label.sk-toggleable__label {background-color: #d4ebff;}#sk-container-id-1 div.sk-label input.sk-toggleable__control:checked~label.sk-toggleable__label {background-color: #d4ebff;}#sk-container-id-1 input.sk-hidden--visually {border: 0;clip: rect(1px 1px 1px 1px);clip: rect(1px, 1px, 1px, 1px);height: 1px;margin: -1px;overflow: hidden;padding: 0;position: absolute;width: 1px;}#sk-container-id-1 div.sk-estimator {font-family: monospace;background-color: #f0f8ff;border: 1px dotted black;border-radius: 0.25em;box-sizing: border-box;margin-bottom: 0.5em;}#sk-container-id-1 div.sk-estimator:hover {background-color: #d4ebff;}#sk-container-id-1 div.sk-parallel-item::after {content: \"\";width: 100%;border-bottom: 1px solid gray;flex-grow: 1;}#sk-container-id-1 div.sk-label:hover label.sk-toggleable__label {background-color: #d4ebff;}#sk-container-id-1 div.sk-serial::before {content: \"\";position: absolute;border-left: 1px solid gray;box-sizing: border-box;top: 0;bottom: 0;left: 50%;z-index: 0;}#sk-container-id-1 div.sk-serial {display: flex;flex-direction: column;align-items: center;background-color: white;padding-right: 0.2em;padding-left: 0.2em;position: relative;}#sk-container-id-1 div.sk-item {position: relative;z-index: 1;}#sk-container-id-1 div.sk-parallel {display: flex;align-items: stretch;justify-content: center;background-color: white;position: relative;}#sk-container-id-1 div.sk-item::before, #sk-container-id-1 div.sk-parallel-item::before {content: \"\";position: absolute;border-left: 1px solid gray;box-sizing: border-box;top: 0;bottom: 0;left: 50%;z-index: -1;}#sk-container-id-1 div.sk-parallel-item {display: flex;flex-direction: column;z-index: 1;position: relative;background-color: white;}#sk-container-id-1 div.sk-parallel-item:first-child::after {align-self: flex-end;width: 50%;}#sk-container-id-1 div.sk-parallel-item:last-child::after {align-self: flex-start;width: 50%;}#sk-container-id-1 div.sk-parallel-item:only-child::after {width: 0;}#sk-container-id-1 div.sk-dashed-wrapped {border: 1px dashed gray;margin: 0 0.4em 0.5em 0.4em;box-sizing: border-box;padding-bottom: 0.4em;background-color: white;}#sk-container-id-1 div.sk-label label {font-family: monospace;font-weight: bold;display: inline-block;line-height: 1.2em;}#sk-container-id-1 div.sk-label-container {text-align: center;}#sk-container-id-1 div.sk-container {/* jupyter's `normalize.less` sets `[hidden] { display: none; }` but bootstrap.min.css set `[hidden] { display: none !important; }` so we also need the `!important` here to be able to override the default hidden behavior on the sphinx rendered scikit-learn.org. See: https://github.com/scikit-learn/scikit-learn/issues/21755 */display: inline-block !important;position: relative;}#sk-container-id-1 div.sk-text-repr-fallback {display: none;}</style><div id=\"sk-container-id-1\" class=\"sk-top-container\"><div class=\"sk-text-repr-fallback\"><pre>LogisticRegression(max_iter=10000)</pre><b>In a Jupyter environment, please rerun this cell to show the HTML representation or trust the notebook. <br />On GitHub, the HTML representation is unable to render, please try loading this page with nbviewer.org.</b></div><div class=\"sk-container\" hidden><div class=\"sk-item\"><div class=\"sk-estimator sk-toggleable\"><input class=\"sk-toggleable__control sk-hidden--visually\" id=\"sk-estimator-id-1\" type=\"checkbox\" checked><label for=\"sk-estimator-id-1\" class=\"sk-toggleable__label sk-toggleable__label-arrow\">LogisticRegression</label><div class=\"sk-toggleable__content\"><pre>LogisticRegression(max_iter=10000)</pre></div></div></div></div></div>"
      ],
      "text/plain": [
       "LogisticRegression(max_iter=10000)"
      ]
     },
     "execution_count": 7,
     "metadata": {},
     "output_type": "execute_result"
    }
   ],
   "source": [
    "#Making a logistic regression model.\n",
    "lr_clf = LogisticRegression(max_iter=10000)\n",
    "lr_clf.fit(X_train, y_train)\n"
   ]
  },
  {
   "cell_type": "code",
   "execution_count": 8,
   "metadata": {},
   "outputs": [
    {
     "name": "stdout",
     "output_type": "stream",
     "text": [
      "Accuracy on training set: 1.000\n",
      "Accuracy on test set: 0.973\n"
     ]
    }
   ],
   "source": [
    "print(\"Accuracy on training set: {:.3f}\".format(lr_clf.score(X_train, y_train)))\n",
    "print(\"Accuracy on test set: {:.3f}\".format(lr_clf.score(X_test, y_test)))"
   ]
  },
  {
   "cell_type": "code",
   "execution_count": 9,
   "metadata": {},
   "outputs": [
    {
     "name": "stdout",
     "output_type": "stream",
     "text": [
      "              precision    recall  f1-score   support\n",
      "\n",
      "           0       1.00      1.00      1.00        55\n",
      "           1       0.95      0.95      0.95        55\n",
      "           2       0.96      1.00      0.98        52\n",
      "           3       0.98      0.96      0.97        56\n",
      "           4       1.00      0.98      0.99        64\n",
      "           5       0.95      0.96      0.95        73\n",
      "           6       0.98      0.98      0.98        57\n",
      "           7       1.00      0.98      0.99        62\n",
      "           8       0.93      0.96      0.94        52\n",
      "           9       0.98      0.96      0.97        68\n",
      "\n",
      "    accuracy                           0.97       594\n",
      "   macro avg       0.97      0.97      0.97       594\n",
      "weighted avg       0.97      0.97      0.97       594\n",
      "\n"
     ]
    }
   ],
   "source": [
    "#For classification report\n",
    "from sklearn.metrics import classification_report\n",
    "lr_clf_pred = lr_clf.predict(X_test)\n",
    "print(classification_report(y_test, lr_clf_pred))"
   ]
  },
  {
   "cell_type": "markdown",
   "metadata": {},
   "source": [
    "<h1>Question 2</h1>\n",
    "Create a 3-way split of the data, using train_test_split. First split into trainval and test, and then split trainval into train and val. "
   ]
  },
  {
   "cell_type": "code",
   "execution_count": 10,
   "metadata": {},
   "outputs": [],
   "source": [
    "# Got help from Chat GPT\n",
    "# The validation data is used for evaluating the model so that the test set can be saved as a last test.\n",
    "# splitting into trainval and test sets\n",
    "X_trainval, X_test, y_trainval, y_test = train_test_split(X, y, test_size=0.2, random_state=42)\n",
    "\n",
    "# splitting trainval into train and val sets\n",
    "X_train, X_val, y_train, y_val = train_test_split(X_trainval, y_trainval, test_size=0.2, random_state=42)"
   ]
  },
  {
   "cell_type": "markdown",
   "metadata": {},
   "source": [
    "<h1>Question 3</h1>\n",
    "Create a logistic regression classifier for the digits data. Write a loop that tries at least 4 values ranging from .001 to 1.0 for C. Use the val data to determine the best value. Then train on the combined train and val data, and score the resulting model on test. Use metrics.ConfusionMatrixDisplay.from_predictions to display a confusion matrix for all 10 classes. "
   ]
  },
  {
   "cell_type": "code",
   "execution_count": 11,
   "metadata": {},
   "outputs": [
    {
     "name": "stdout",
     "output_type": "stream",
     "text": [
      "Fitting 2 folds for each of 4 candidates, totalling 8 fits\n",
      "[CV 1/2] END ...........................C=0.001;, score=0.955 total time=   0.0s\n",
      "[CV 2/2] END ...........................C=0.001;, score=0.927 total time=   0.0s\n",
      "[CV 1/2] END ............................C=0.01;, score=0.953 total time=   0.2s\n",
      "[CV 2/2] END ............................C=0.01;, score=0.951 total time=   0.1s\n",
      "[CV 1/2] END .............................C=0.1;, score=0.953 total time=   0.7s\n",
      "[CV 2/2] END .............................C=0.1;, score=0.953 total time=   1.0s\n",
      "[CV 1/2] END ...............................C=1;, score=0.951 total time=   0.4s\n",
      "[CV 2/2] END ...............................C=1;, score=0.949 total time=   0.3s\n"
     ]
    },
    {
     "data": {
      "text/plain": [
       "(0.9530025753673685, {'C': 0.1})"
      ]
     },
     "execution_count": 11,
     "metadata": {},
     "output_type": "execute_result"
    }
   ],
   "source": [
    "# Using GridSearchCV because I am familiar with this function\n",
    "from sklearn.model_selection import GridSearchCV\n",
    "\n",
    "# Using Grid search for trying different values of C, as it is asked for in the task\n",
    "params = {'C': [0.001, 0.01, 0.1, 1]}\n",
    "\n",
    "# Logistic regression model\n",
    "lr_model = LogisticRegression(max_iter=10000)\n",
    "\n",
    "# https://www.projectpro.io/recipes/find-optimal-parameters-using-gridsearchcv\n",
    "# Doing the Grid search with four different C values. https://scikit-learn.org/stable/modules/generated/sklearn.model_selection.GridSearchCV.html\n",
    "lr_grid = GridSearchCV(estimator=lr_model,\n",
    "                    param_grid=params,\n",
    "                    cv=2, # We are not asked to use cross validation, there it is set to 1.\n",
    "                    verbose=3) # Setting verbose on 3 to see the different results from the iterations\n",
    "\n",
    "# Fitting the model\n",
    "lr_grid.fit(X_train, y_train)\n",
    "\n",
    "# Assessing the score and the parameters\n",
    "lr_grid.best_score_, lr_grid.best_params_"
   ]
  },
  {
   "cell_type": "code",
   "execution_count": 12,
   "metadata": {},
   "outputs": [
    {
     "data": {
      "text/plain": [
       "((360,), (360, 64))"
      ]
     },
     "execution_count": 12,
     "metadata": {},
     "output_type": "execute_result"
    }
   ],
   "source": [
    "# Determing the scores on the val data\n",
    "lr_pred_grid = lr_grid.predict(X_test)\n",
    "\n",
    "# Telling the amount of rows and columns\n",
    "lr_pred_grid.shape, X_test.shape"
   ]
  },
  {
   "cell_type": "code",
   "execution_count": 13,
   "metadata": {},
   "outputs": [
    {
     "name": "stdout",
     "output_type": "stream",
     "text": [
      "Accuracy on val set: 1.000\n"
     ]
    }
   ],
   "source": [
    "# Using the parameter from the Grid search to make a new model, and train on the Val data\n",
    "lr_val = LogisticRegression(C=0.1, max_iter=10000)\n",
    "\n",
    "# Fitting model on val data\n",
    "lr_val.fit(X_trainval, y_trainval)\n",
    "\n",
    "# Accuracy on val data\n",
    "print(\"Accuracy on val set: {:.3f}\".format(lr_val.score(X_val, y_val)))\n"
   ]
  },
  {
   "cell_type": "code",
   "execution_count": 14,
   "metadata": {},
   "outputs": [
    {
     "name": "stdout",
     "output_type": "stream",
     "text": [
      "Accuracy on test set: 0.972\n"
     ]
    }
   ],
   "source": [
    "# Doing some predictions\n",
    "lr_val_pred = lr_val.predict(X_test)\n",
    "\n",
    "#Checking accuracy\n",
    "print(\"Accuracy on test set: {:.3f}\".format(lr_val.score(X_test, y_test)))"
   ]
  },
  {
   "cell_type": "code",
   "execution_count": 14,
   "metadata": {},
   "outputs": [
    {
     "name": "stdout",
     "output_type": "stream",
     "text": [
      "[[33  0  0  0  0  0  0  0  0  0]\n",
      " [ 0 28  0  0  0  0  0  0  0  0]\n",
      " [ 0  0 33  0  0  0  0  0  0  0]\n",
      " [ 0  0  0 33  0  1  0  0  0  0]\n",
      " [ 0  1  0  0 45  0  0  0  0  0]\n",
      " [ 0  0  1  0  0 44  1  0  0  1]\n",
      " [ 0  0  0  0  0  1 34  0  0  0]\n",
      " [ 0  0  0  0  0  1  0 33  0  0]\n",
      " [ 0  0  0  0  0  1  0  0 29  0]\n",
      " [ 0  0  0  1  0  0  0  0  1 38]]\n"
     ]
    }
   ],
   "source": [
    "#Importing for confusion matrix\n",
    "from sklearn.metrics import confusion_matrix, ConfusionMatrixDisplay\n",
    "\n",
    "# Making a confusion matrix\n",
    "cm_LR = confusion_matrix(y_test, lr_val_pred)\n",
    "print(cm_LR)\n",
    "\n"
   ]
  },
  {
   "cell_type": "code",
   "execution_count": 15,
   "metadata": {
    "scrolled": true
   },
   "outputs": [
    {
     "data": {
      "image/png": "[encoded data removed]",
      "text/plain": [
       "<Figure size 640x480 with 2 Axes>"
      ]
     },
     "metadata": {},
     "output_type": "display_data"
    }
   ],
   "source": [
    "# Displaying the confusion matrix\n",
    "disp = ConfusionMatrixDisplay(confusion_matrix=cm_LR,\n",
    "                               display_labels=lr_val.classes_)\n",
    "disp.plot()\n",
    "plt.show()"
   ]
  },
  {
   "cell_type": "code",
   "execution_count": 16,
   "metadata": {},
   "outputs": [
    {
     "name": "stdout",
     "output_type": "stream",
     "text": [
      "              precision    recall  f1-score   support\n",
      "\n",
      "           0       1.00      1.00      1.00        33\n",
      "           1       0.97      1.00      0.98        28\n",
      "           2       0.97      1.00      0.99        33\n",
      "           3       0.97      0.97      0.97        34\n",
      "           4       1.00      0.98      0.99        46\n",
      "           5       0.92      0.94      0.93        47\n",
      "           6       0.97      0.97      0.97        35\n",
      "           7       1.00      0.97      0.99        34\n",
      "           8       0.97      0.97      0.97        30\n",
      "           9       0.97      0.95      0.96        40\n",
      "\n",
      "    accuracy                           0.97       360\n",
      "   macro avg       0.97      0.97      0.97       360\n",
      "weighted avg       0.97      0.97      0.97       360\n",
      "\n"
     ]
    }
   ],
   "source": [
    "print(classification_report(y_test, lr_val_pred))"
   ]
  },
  {
   "cell_type": "markdown",
   "metadata": {},
   "source": [
    "<h1>Question 4</h1>\n",
    "Create a Decision Tree classifier for the digits data. Write a loop that tries values of 1 through 20 for maximum depth. Use the val data to determine the best value. "
   ]
  },
  {
   "cell_type": "code",
   "execution_count": 17,
   "metadata": {},
   "outputs": [
    {
     "name": "stdout",
     "output_type": "stream",
     "text": [
      "Fitting 2 folds for each of 20 candidates, totalling 40 fits\n",
      "[CV 1/2] END .......................max_depth=1;, score=0.212 total time=   0.0s\n",
      "[CV 2/2] END .......................max_depth=1;, score=0.209 total time=   0.0s\n",
      "[CV 1/2] END .......................max_depth=2;, score=0.337 total time=   0.0s\n",
      "[CV 2/2] END .......................max_depth=2;, score=0.333 total time=   0.0s\n",
      "[CV 1/2] END .......................max_depth=3;, score=0.492 total time=   0.0s\n",
      "[CV 2/2] END .......................max_depth=3;, score=0.474 total time=   0.0s\n",
      "[CV 1/2] END .......................max_depth=4;, score=0.563 total time=   0.0s\n",
      "[CV 2/2] END .......................max_depth=4;, score=0.556 total time=   0.0s\n",
      "[CV 1/2] END .......................max_depth=5;, score=0.654 total time=   0.0s\n",
      "[CV 2/2] END .......................max_depth=5;, score=0.646 total time=   0.0s\n",
      "[CV 1/2] END .......................max_depth=6;, score=0.734 total time=   0.0s\n",
      "[CV 2/2] END .......................max_depth=6;, score=0.737 total time=   0.0s\n",
      "[CV 1/2] END .......................max_depth=7;, score=0.790 total time=   0.0s\n",
      "[CV 2/2] END .......................max_depth=7;, score=0.749 total time=   0.0s\n",
      "[CV 1/2] END .......................max_depth=8;, score=0.816 total time=   0.0s\n",
      "[CV 2/2] END .......................max_depth=8;, score=0.761 total time=   0.0s\n",
      "[CV 1/2] END .......................max_depth=9;, score=0.812 total time=   0.0s\n",
      "[CV 2/2] END .......................max_depth=9;, score=0.780 total time=   0.0s\n",
      "[CV 1/2] END ......................max_depth=10;, score=0.809 total time=   0.0s\n",
      "[CV 2/2] END ......................max_depth=10;, score=0.765 total time=   0.0s\n",
      "[CV 1/2] END ......................max_depth=11;, score=0.805 total time=   0.0s\n",
      "[CV 2/2] END ......................max_depth=11;, score=0.780 total time=   0.0s\n",
      "[CV 1/2] END ......................max_depth=12;, score=0.803 total time=   0.0s\n",
      "[CV 2/2] END ......................max_depth=12;, score=0.780 total time=   0.0s\n",
      "[CV 1/2] END ......................max_depth=13;, score=0.803 total time=   0.0s\n",
      "[CV 2/2] END ......................max_depth=13;, score=0.780 total time=   0.0s\n",
      "[CV 1/2] END ......................max_depth=14;, score=0.803 total time=   0.0s\n",
      "[CV 2/2] END ......................max_depth=14;, score=0.780 total time=   0.0s\n",
      "[CV 1/2] END ......................max_depth=15;, score=0.803 total time=   0.0s\n",
      "[CV 2/2] END ......................max_depth=15;, score=0.780 total time=   0.0s\n",
      "[CV 1/2] END ......................max_depth=16;, score=0.803 total time=   0.0s\n",
      "[CV 2/2] END ......................max_depth=16;, score=0.780 total time=   0.0s\n",
      "[CV 1/2] END ......................max_depth=17;, score=0.803 total time=   0.0s\n",
      "[CV 2/2] END ......................max_depth=17;, score=0.780 total time=   0.0s\n",
      "[CV 1/2] END ......................max_depth=18;, score=0.803 total time=   0.0s\n",
      "[CV 2/2] END ......................max_depth=18;, score=0.780 total time=   0.0s\n",
      "[CV 1/2] END ......................max_depth=19;, score=0.803 total time=   0.0s\n",
      "[CV 2/2] END ......................max_depth=19;, score=0.780 total time=   0.0s\n",
      "[CV 1/2] END ......................max_depth=20;, score=0.803 total time=   0.0s\n",
      "[CV 2/2] END ......................max_depth=20;, score=0.780 total time=   0.0s\n"
     ]
    },
    {
     "data": {
      "text/plain": [
       "(0.7963308589607636, {'max_depth': 9})"
      ]
     },
     "execution_count": 17,
     "metadata": {},
     "output_type": "execute_result"
    }
   ],
   "source": [
    "# Creating a decision tree classifier\n",
    "from sklearn.tree import DecisionTreeClassifier\n",
    "tree_basic = DecisionTreeClassifier(random_state = 42)\n",
    "\n",
    "# Iterationg through differenc max depths with grid search. First defining params.\n",
    "params_tree = {'max_depth': [1,2,3,4,5,6,7,8,9,10,11,12,13,14,15,16,17,18,19,20]}\n",
    "\n",
    "# Doing the Grid search with four different C values. https://scikit-learn.org/stable/modules/generated/sklearn.model_selection.GridSearchCV.html\n",
    "tree_grid = GridSearchCV(estimator=tree_basic,\n",
    "                    param_grid=params_tree,\n",
    "                    cv=2, # We are not asked to use cross validation, there it is set to 1.\n",
    "                    verbose=3) # Setting verbose on 3 to see the different results from the iterations\n",
    "\n",
    "# Fitting the model\n",
    "tree_grid.fit(X_train, y_train)\n",
    "\n",
    "# Displaying the best result\n",
    "# Assessing the score and the parameters\n",
    "tree_grid.best_score_, tree_grid.best_params_"
   ]
  },
  {
   "cell_type": "markdown",
   "metadata": {},
   "source": [
    "<h1>Question 5</h1>\n",
    "Now train the best decision tree model on the combined train and val data, and score the resulting model on test.  \n",
    "Use both metrics.classification_report and metrics.ConfusionMatrixDisplay.from_predictions to display the results in detail.\n"
   ]
  },
  {
   "cell_type": "code",
   "execution_count": 18,
   "metadata": {},
   "outputs": [
    {
     "name": "stdout",
     "output_type": "stream",
     "text": [
      "Accuracy on val set: 0.948\n"
     ]
    }
   ],
   "source": [
    "# Using the best params found before to fit a new model on the val data\n",
    "tree_val = DecisionTreeClassifier(max_depth = 9, random_state = 42)\n",
    "\n",
    "# Fitting the model\n",
    "tree_val.fit(X_trainval, y_trainval)\n",
    "\n",
    "# Checking the result\n",
    "print(\"Accuracy on val set: {:.3f}\".format(tree_val.score(X_trainval, y_trainval)))"
   ]
  },
  {
   "cell_type": "code",
   "execution_count": 19,
   "metadata": {},
   "outputs": [
    {
     "name": "stdout",
     "output_type": "stream",
     "text": [
      "Accuracy on test set: 0.844\n"
     ]
    }
   ],
   "source": [
    "# Doing some predictions\n",
    "tree_val_pred = tree_val.predict(X_test)\n",
    "\n",
    "# Looking on the result on the test data\n",
    "print(\"Accuracy on test set: {:.3f}\".format(tree_val.score(X_test, y_test)))"
   ]
  },
  {
   "cell_type": "code",
   "execution_count": 20,
   "metadata": {},
   "outputs": [
    {
     "name": "stdout",
     "output_type": "stream",
     "text": [
      "              precision    recall  f1-score   support\n",
      "\n",
      "           0       0.94      0.88      0.91        33\n",
      "           1       0.81      0.75      0.78        28\n",
      "           2       0.92      0.70      0.79        33\n",
      "           3       0.82      0.91      0.86        34\n",
      "           4       0.77      0.89      0.83        46\n",
      "           5       0.93      0.85      0.89        47\n",
      "           6       0.97      0.91      0.94        35\n",
      "           7       0.82      0.91      0.86        34\n",
      "           8       0.81      0.73      0.77        30\n",
      "           9       0.74      0.85      0.79        40\n",
      "\n",
      "    accuracy                           0.84       360\n",
      "   macro avg       0.85      0.84      0.84       360\n",
      "weighted avg       0.85      0.84      0.84       360\n",
      "\n"
     ]
    }
   ],
   "source": [
    "# Classification report\n",
    "print(classification_report(y_test, tree_val_pred))"
   ]
  },
  {
   "cell_type": "code",
   "execution_count": 21,
   "metadata": {},
   "outputs": [
    {
     "name": "stdout",
     "output_type": "stream",
     "text": [
      "[[29  0  0  0  3  1  0  0  0  0]\n",
      " [ 0 21  1  0  2  0  0  1  1  2]\n",
      " [ 1  1 23  1  0  1  1  1  2  2]\n",
      " [ 0  0  0 31  0  0  0  0  2  1]\n",
      " [ 0  2  0  0 41  0  0  2  0  1]\n",
      " [ 0  0  1  1  1 40  0  0  0  4]\n",
      " [ 1  0  0  0  1  1 32  0  0  0]\n",
      " [ 0  0  0  1  1  0  0 31  0  1]\n",
      " [ 0  2  0  2  3  0  0  0 22  1]\n",
      " [ 0  0  0  2  1  0  0  3  0 34]]\n"
     ]
    }
   ],
   "source": [
    "# Confusion matrix\n",
    "cm_tree = confusion_matrix(y_test, tree_val_pred)\n",
    "print(cm_tree)"
   ]
  },
  {
   "cell_type": "code",
   "execution_count": 22,
   "metadata": {},
   "outputs": [
    {
     "data": {
      "image/png": "[encoded data removed]",
      "text/plain": [
       "<Figure size 640x480 with 2 Axes>"
      ]
     },
     "metadata": {},
     "output_type": "display_data"
    }
   ],
   "source": [
    "# Display of confusion matrix\n",
    "disp = ConfusionMatrixDisplay(confusion_matrix=cm_tree,\n",
    "                               display_labels=tree_val.classes_)\n",
    "disp.plot()\n",
    "plt.show()"
   ]
  },
  {
   "cell_type": "markdown",
   "metadata": {},
   "source": [
    "<h1>Question 6</h1>\n",
    "Create a Random Forest classifier for the digits data. Use the val data to determine the best values for \n",
    "<ul>\n",
    "    <li>number of estimators (from 50 to 500 by 50s)</li>\n",
    "    <li>Max depth (from 10 to 50 by 10s)</li>\n",
    "    </ul>\n",
    "        "
   ]
  },
  {
   "cell_type": "code",
   "execution_count": 23,
   "metadata": {},
   "outputs": [
    {
     "name": "stdout",
     "output_type": "stream",
     "text": [
      "Fitting 2 folds for each of 50 candidates, totalling 100 fits\n",
      "[CV 1/2] END .....max_depth=10, n_estimators=50;, score=0.949 total time=   0.0s\n",
      "[CV 2/2] END .....max_depth=10, n_estimators=50;, score=0.964 total time=   0.0s\n",
      "[CV 1/2] END ....max_depth=10, n_estimators=100;, score=0.950 total time=   0.1s\n",
      "[CV 2/2] END ....max_depth=10, n_estimators=100;, score=0.971 total time=   0.1s\n",
      "[CV 1/2] END ....max_depth=10, n_estimators=150;, score=0.954 total time=   0.2s\n",
      "[CV 2/2] END ....max_depth=10, n_estimators=150;, score=0.971 total time=   0.2s\n",
      "[CV 1/2] END ....max_depth=10, n_estimators=200;, score=0.955 total time=   0.3s\n",
      "[CV 2/2] END ....max_depth=10, n_estimators=200;, score=0.971 total time=   0.3s\n",
      "[CV 1/2] END ....max_depth=10, n_estimators=250;, score=0.953 total time=   0.4s\n",
      "[CV 2/2] END ....max_depth=10, n_estimators=250;, score=0.971 total time=   0.4s\n",
      "[CV 1/2] END ....max_depth=10, n_estimators=300;, score=0.951 total time=   0.5s\n",
      "[CV 2/2] END ....max_depth=10, n_estimators=300;, score=0.974 total time=   0.5s\n",
      "[CV 1/2] END ....max_depth=10, n_estimators=350;, score=0.953 total time=   0.6s\n",
      "[CV 2/2] END ....max_depth=10, n_estimators=350;, score=0.972 total time=   0.6s\n",
      "[CV 1/2] END ....max_depth=10, n_estimators=400;, score=0.950 total time=   0.7s\n",
      "[CV 2/2] END ....max_depth=10, n_estimators=400;, score=0.972 total time=   0.7s\n",
      "[CV 1/2] END ....max_depth=10, n_estimators=450;, score=0.954 total time=   0.8s\n",
      "[CV 2/2] END ....max_depth=10, n_estimators=450;, score=0.972 total time=   0.8s\n",
      "[CV 1/2] END ....max_depth=10, n_estimators=500;, score=0.953 total time=   0.9s\n",
      "[CV 2/2] END ....max_depth=10, n_estimators=500;, score=0.971 total time=   0.9s\n",
      "[CV 1/2] END .....max_depth=20, n_estimators=50;, score=0.936 total time=   0.0s\n",
      "[CV 2/2] END .....max_depth=20, n_estimators=50;, score=0.972 total time=   0.0s\n",
      "[CV 1/2] END ....max_depth=20, n_estimators=100;, score=0.949 total time=   0.1s\n",
      "[CV 2/2] END ....max_depth=20, n_estimators=100;, score=0.969 total time=   0.1s\n",
      "[CV 1/2] END ....max_depth=20, n_estimators=150;, score=0.951 total time=   0.2s\n",
      "[CV 2/2] END ....max_depth=20, n_estimators=150;, score=0.969 total time=   0.2s\n",
      "[CV 1/2] END ....max_depth=20, n_estimators=200;, score=0.949 total time=   0.3s\n",
      "[CV 2/2] END ....max_depth=20, n_estimators=200;, score=0.969 total time=   0.3s\n",
      "[CV 1/2] END ....max_depth=20, n_estimators=250;, score=0.951 total time=   0.4s\n",
      "[CV 2/2] END ....max_depth=20, n_estimators=250;, score=0.972 total time=   0.4s\n",
      "[CV 1/2] END ....max_depth=20, n_estimators=300;, score=0.949 total time=   0.5s\n",
      "[CV 2/2] END ....max_depth=20, n_estimators=300;, score=0.972 total time=   0.5s\n",
      "[CV 1/2] END ....max_depth=20, n_estimators=350;, score=0.947 total time=   0.6s\n",
      "[CV 2/2] END ....max_depth=20, n_estimators=350;, score=0.972 total time=   0.6s\n",
      "[CV 1/2] END ....max_depth=20, n_estimators=400;, score=0.947 total time=   0.7s\n",
      "[CV 2/2] END ....max_depth=20, n_estimators=400;, score=0.972 total time=   0.7s\n",
      "[CV 1/2] END ....max_depth=20, n_estimators=450;, score=0.949 total time=   0.8s\n",
      "[CV 2/2] END ....max_depth=20, n_estimators=450;, score=0.971 total time=   0.8s\n",
      "[CV 1/2] END ....max_depth=20, n_estimators=500;, score=0.947 total time=   0.9s\n",
      "[CV 2/2] END ....max_depth=20, n_estimators=500;, score=0.972 total time=   0.9s\n",
      "[CV 1/2] END .....max_depth=30, n_estimators=50;, score=0.936 total time=   0.0s\n",
      "[CV 2/2] END .....max_depth=30, n_estimators=50;, score=0.972 total time=   0.0s\n",
      "[CV 1/2] END ....max_depth=30, n_estimators=100;, score=0.949 total time=   0.1s\n",
      "[CV 2/2] END ....max_depth=30, n_estimators=100;, score=0.969 total time=   0.1s\n",
      "[CV 1/2] END ....max_depth=30, n_estimators=150;, score=0.951 total time=   0.2s\n",
      "[CV 2/2] END ....max_depth=30, n_estimators=150;, score=0.969 total time=   0.2s\n",
      "[CV 1/2] END ....max_depth=30, n_estimators=200;, score=0.949 total time=   0.3s\n",
      "[CV 2/2] END ....max_depth=30, n_estimators=200;, score=0.969 total time=   0.3s\n",
      "[CV 1/2] END ....max_depth=30, n_estimators=250;, score=0.951 total time=   0.4s\n",
      "[CV 2/2] END ....max_depth=30, n_estimators=250;, score=0.972 total time=   0.4s\n",
      "[CV 1/2] END ....max_depth=30, n_estimators=300;, score=0.949 total time=   0.5s\n",
      "[CV 2/2] END ....max_depth=30, n_estimators=300;, score=0.972 total time=   0.5s\n",
      "[CV 1/2] END ....max_depth=30, n_estimators=350;, score=0.947 total time=   0.6s\n",
      "[CV 2/2] END ....max_depth=30, n_estimators=350;, score=0.972 total time=   0.7s\n",
      "[CV 1/2] END ....max_depth=30, n_estimators=400;, score=0.947 total time=   0.7s\n",
      "[CV 2/2] END ....max_depth=30, n_estimators=400;, score=0.972 total time=   0.8s\n",
      "[CV 1/2] END ....max_depth=30, n_estimators=450;, score=0.949 total time=   0.8s\n",
      "[CV 2/2] END ....max_depth=30, n_estimators=450;, score=0.971 total time=   0.8s\n",
      "[CV 1/2] END ....max_depth=30, n_estimators=500;, score=0.947 total time=   0.9s\n",
      "[CV 2/2] END ....max_depth=30, n_estimators=500;, score=0.972 total time=   0.9s\n",
      "[CV 1/2] END .....max_depth=40, n_estimators=50;, score=0.936 total time=   0.0s\n",
      "[CV 2/2] END .....max_depth=40, n_estimators=50;, score=0.972 total time=   0.0s\n",
      "[CV 1/2] END ....max_depth=40, n_estimators=100;, score=0.949 total time=   0.1s\n",
      "[CV 2/2] END ....max_depth=40, n_estimators=100;, score=0.969 total time=   0.1s\n",
      "[CV 1/2] END ....max_depth=40, n_estimators=150;, score=0.951 total time=   0.2s\n",
      "[CV 2/2] END ....max_depth=40, n_estimators=150;, score=0.969 total time=   0.2s\n",
      "[CV 1/2] END ....max_depth=40, n_estimators=200;, score=0.949 total time=   0.3s\n",
      "[CV 2/2] END ....max_depth=40, n_estimators=200;, score=0.969 total time=   0.3s\n",
      "[CV 1/2] END ....max_depth=40, n_estimators=250;, score=0.951 total time=   0.4s\n",
      "[CV 2/2] END ....max_depth=40, n_estimators=250;, score=0.972 total time=   0.4s\n",
      "[CV 1/2] END ....max_depth=40, n_estimators=300;, score=0.949 total time=   0.5s\n",
      "[CV 2/2] END ....max_depth=40, n_estimators=300;, score=0.972 total time=   0.5s\n",
      "[CV 1/2] END ....max_depth=40, n_estimators=350;, score=0.947 total time=   0.6s\n",
      "[CV 2/2] END ....max_depth=40, n_estimators=350;, score=0.972 total time=   0.6s\n",
      "[CV 1/2] END ....max_depth=40, n_estimators=400;, score=0.947 total time=   0.7s\n",
      "[CV 2/2] END ....max_depth=40, n_estimators=400;, score=0.972 total time=   0.7s\n",
      "[CV 1/2] END ....max_depth=40, n_estimators=450;, score=0.949 total time=   0.8s\n",
      "[CV 2/2] END ....max_depth=40, n_estimators=450;, score=0.971 total time=   0.8s\n",
      "[CV 1/2] END ....max_depth=40, n_estimators=500;, score=0.947 total time=   0.9s\n",
      "[CV 2/2] END ....max_depth=40, n_estimators=500;, score=0.972 total time=   0.9s\n",
      "[CV 1/2] END .....max_depth=50, n_estimators=50;, score=0.936 total time=   0.0s\n",
      "[CV 2/2] END .....max_depth=50, n_estimators=50;, score=0.972 total time=   0.0s\n",
      "[CV 1/2] END ....max_depth=50, n_estimators=100;, score=0.949 total time=   0.1s\n",
      "[CV 2/2] END ....max_depth=50, n_estimators=100;, score=0.969 total time=   0.1s\n",
      "[CV 1/2] END ....max_depth=50, n_estimators=150;, score=0.951 total time=   0.2s\n",
      "[CV 2/2] END ....max_depth=50, n_estimators=150;, score=0.969 total time=   0.2s\n",
      "[CV 1/2] END ....max_depth=50, n_estimators=200;, score=0.949 total time=   0.3s\n",
      "[CV 2/2] END ....max_depth=50, n_estimators=200;, score=0.969 total time=   0.3s\n",
      "[CV 1/2] END ....max_depth=50, n_estimators=250;, score=0.951 total time=   0.4s\n",
      "[CV 2/2] END ....max_depth=50, n_estimators=250;, score=0.972 total time=   0.4s\n",
      "[CV 1/2] END ....max_depth=50, n_estimators=300;, score=0.949 total time=   0.5s\n",
      "[CV 2/2] END ....max_depth=50, n_estimators=300;, score=0.972 total time=   0.5s\n",
      "[CV 1/2] END ....max_depth=50, n_estimators=350;, score=0.947 total time=   0.6s\n",
      "[CV 2/2] END ....max_depth=50, n_estimators=350;, score=0.972 total time=   0.6s\n",
      "[CV 1/2] END ....max_depth=50, n_estimators=400;, score=0.947 total time=   0.7s\n",
      "[CV 2/2] END ....max_depth=50, n_estimators=400;, score=0.972 total time=   0.7s\n",
      "[CV 1/2] END ....max_depth=50, n_estimators=450;, score=0.949 total time=   0.8s\n",
      "[CV 2/2] END ....max_depth=50, n_estimators=450;, score=0.971 total time=   0.8s\n",
      "[CV 1/2] END ....max_depth=50, n_estimators=500;, score=0.947 total time=   0.9s\n",
      "[CV 2/2] END ....max_depth=50, n_estimators=500;, score=0.972 total time=   0.9s\n"
     ]
    },
    {
     "data": {
      "text/plain": [
       "(0.9631238837599421, {'max_depth': 10, 'n_estimators': 450})"
      ]
     },
     "execution_count": 23,
     "metadata": {},
     "output_type": "execute_result"
    }
   ],
   "source": [
    "# Creating a random forest classifier. https://towardsdatascience.com/random-forest-in-python-24d0893d51c0\n",
    "from sklearn.ensemble import RandomForestClassifier\n",
    "rf = RandomForestClassifier(random_state=42)\n",
    "\n",
    "# Defining params to be investigated\n",
    "rf_params = {'max_depth':[10,20,30,40,50], 'n_estimators':[50,100,150,200,250,300,350,400,450,500]}\n",
    "\n",
    "# Making grid search\n",
    "rf_grid = GridSearchCV(estimator=rf,\n",
    "                    param_grid=rf_params,\n",
    "                    cv=2, # We are not asked to use cross validation, there it is set to 1.\n",
    "                    verbose=3) # Setting verbose on 3 to see the different results from the iterations\n",
    "\n",
    "# Fitting the model on the val data instead of the normal train data\n",
    "rf_grid.fit(X_trainval, y_trainval)\n",
    "\n",
    "# Assessing the score and the parameters\n",
    "rf_grid.best_score_, rf_grid.best_params_"
   ]
  },
  {
   "cell_type": "markdown",
   "metadata": {},
   "source": [
    "<h1>Question 7</h1>\n",
    "Now train the best random forest model on the combined train and val data, and score the resulting model on test.  \n",
    "\n",
    "Use both metrics.classification_report and metrics.ConfusionMatrixDisplay.from_predictions to display the results in detail."
   ]
  },
  {
   "cell_type": "code",
   "execution_count": 24,
   "metadata": {},
   "outputs": [
    {
     "name": "stdout",
     "output_type": "stream",
     "text": [
      "Accuracy on train set: 1.000\n"
     ]
    }
   ],
   "source": [
    "# using the parameters fund earlier in the \"new\" model\n",
    "rf_train = RandomForestClassifier(max_depth=10, n_estimators=450, random_state=42)\n",
    "\n",
    "# Fitting the model\n",
    "rf_train.fit(X_train,y_train)\n",
    "\n",
    "# Checking the results\n",
    "print(\"Accuracy on train set: {:.3f}\".format(rf_train.score(X_train, y_train)))"
   ]
  },
  {
   "cell_type": "code",
   "execution_count": 25,
   "metadata": {
    "scrolled": true
   },
   "outputs": [
    {
     "name": "stdout",
     "output_type": "stream",
     "text": [
      "              precision    recall  f1-score   support\n",
      "\n",
      "           0       1.00      0.97      0.98        33\n",
      "           1       0.93      1.00      0.97        28\n",
      "           2       1.00      1.00      1.00        33\n",
      "           3       1.00      0.97      0.99        34\n",
      "           4       0.98      1.00      0.99        46\n",
      "           5       0.94      0.98      0.96        47\n",
      "           6       0.97      0.97      0.97        35\n",
      "           7       0.97      0.97      0.97        34\n",
      "           8       1.00      0.93      0.97        30\n",
      "           9       0.97      0.95      0.96        40\n",
      "\n",
      "    accuracy                           0.97       360\n",
      "   macro avg       0.98      0.97      0.98       360\n",
      "weighted avg       0.98      0.97      0.98       360\n",
      "\n"
     ]
    }
   ],
   "source": [
    "# Predicting\n",
    "rf_pred = rf_train.predict(X_test)\n",
    "\n",
    "# Classification report\n",
    "print(classification_report(y_test, rf_pred))"
   ]
  },
  {
   "cell_type": "code",
   "execution_count": 26,
   "metadata": {},
   "outputs": [
    {
     "name": "stdout",
     "output_type": "stream",
     "text": [
      "[[32  0  0  0  1  0  0  0  0  0]\n",
      " [ 0 28  0  0  0  0  0  0  0  0]\n",
      " [ 0  0 33  0  0  0  0  0  0  0]\n",
      " [ 0  0  0 33  0  1  0  0  0  0]\n",
      " [ 0  0  0  0 46  0  0  0  0  0]\n",
      " [ 0  0  0  0  0 46  1  0  0  0]\n",
      " [ 0  0  0  0  0  1 34  0  0  0]\n",
      " [ 0  0  0  0  0  0  0 33  0  1]\n",
      " [ 0  2  0  0  0  0  0  0 28  0]\n",
      " [ 0  0  0  0  0  1  0  1  0 38]]\n"
     ]
    }
   ],
   "source": [
    "# Confusion matrix\n",
    "cm_rf = confusion_matrix(y_test, rf_pred)\n",
    "print(cm_rf)"
   ]
  },
  {
   "cell_type": "code",
   "execution_count": 27,
   "metadata": {},
   "outputs": [
    {
     "data": {
      "image/png": "[encoded data removed]",
      "text/plain": [
       "<Figure size 640x480 with 2 Axes>"
      ]
     },
     "metadata": {},
     "output_type": "display_data"
    }
   ],
   "source": [
    "# Displaying the confusion matrix\n",
    "disp = ConfusionMatrixDisplay(confusion_matrix=cm_rf,\n",
    "                               display_labels=rf_train.classes_)\n",
    "disp.plot()\n",
    "plt.show()"
   ]
  },
  {
   "cell_type": "markdown",
   "metadata": {},
   "source": [
    "# <h1>Question 8</h1>\n",
    "Create a MLP classifier for the digits data. Use the val data to determine the best values for \n",
    "hidden layer sizes. Try values from (10,10) to (210,210), increasing by 50s. You can use two nested loops for variables H1 and H2, and then assign (H1,H2) to the parameter hidden_layer_sizes.\n",
    "<p> Print the best values for the two hidden layer sizes</p>\n",
    "    \n",
    "        "
   ]
  },
  {
   "cell_type": "code",
   "execution_count": 28,
   "metadata": {},
   "outputs": [
    {
     "name": "stdout",
     "output_type": "stream",
     "text": [
      "Fitting 2 folds for each of 5 candidates, totalling 10 fits\n",
      "[CV 1/2] END .......hidden_layer_sizes=(10, 10);, score=0.922 total time=   1.0s\n",
      "[CV 2/2] END .......hidden_layer_sizes=(10, 10);, score=0.905 total time=   0.9s\n",
      "[CV 1/2] END .......hidden_layer_sizes=(60, 60);, score=0.933 total time=   0.4s\n",
      "[CV 2/2] END .......hidden_layer_sizes=(60, 60);, score=0.955 total time=   0.4s\n",
      "[CV 1/2] END .....hidden_layer_sizes=(110, 110);, score=0.944 total time=   0.5s\n",
      "[CV 2/2] END .....hidden_layer_sizes=(110, 110);, score=0.962 total time=   0.6s\n",
      "[CV 1/2] END .....hidden_layer_sizes=(160, 160);, score=0.961 total time=   0.6s\n",
      "[CV 2/2] END .....hidden_layer_sizes=(160, 160);, score=0.960 total time=   0.6s\n",
      "[CV 1/2] END .....hidden_layer_sizes=(210, 210);, score=0.961 total time=   0.9s\n",
      "[CV 2/2] END .....hidden_layer_sizes=(210, 210);, score=0.965 total time=   0.8s\n"
     ]
    },
    {
     "data": {
      "text/plain": [
       "(0.9631190410698858, {'hidden_layer_sizes': (210, 210)})"
      ]
     },
     "execution_count": 28,
     "metadata": {},
     "output_type": "execute_result"
    }
   ],
   "source": [
    "# Importing MLP. https://scikit-learn.org/stable/modules/generated/sklearn.neural_network.MLPClassifier.html\n",
    "from sklearn.neural_network import MLPClassifier\n",
    "\n",
    "# Making a model/getting the model\n",
    "MLP = MLPClassifier(random_state=42, max_iter=10000)\n",
    "\n",
    "# Defining params to be investigated\n",
    "MLP_params = {'hidden_layer_sizes':[(10,10),(60,60),(110,110),(160,160),(210,210)]}\n",
    "\n",
    "# Making grid search\n",
    "MLP_grid = GridSearchCV(estimator=MLP,\n",
    "                    param_grid=MLP_params,\n",
    "                    cv=2, # We are not asked to use cross validation, there it is set to 1.\n",
    "                    verbose=3) # Setting verbose on 3 to see the different results from the iterations\n",
    "\n",
    "# Fitting the model on the val data instead of the normal train data\n",
    "MLP_grid.fit(X_trainval, y_trainval)\n",
    "\n",
    "# Assessing the score and the parameters\n",
    "MLP_grid.best_score_, MLP_grid.best_params_"
   ]
  },
  {
   "cell_type": "markdown",
   "metadata": {},
   "source": [
    "<h1>Question 9</h1>"
   ]
  },
  {
   "cell_type": "markdown",
   "metadata": {},
   "source": [
    "Now train the best mlp model on the combined train and val data, and score the resulting model on test.  \n",
    "\n",
    "Use both metrics.classification_report and metrics.ConfusionMatrixDisplay.from_predictions to display the results in detail."
   ]
  },
  {
   "cell_type": "code",
   "execution_count": 29,
   "metadata": {},
   "outputs": [
    {
     "name": "stdout",
     "output_type": "stream",
     "text": [
      "Accuracy on train set: 1.000\n",
      "Accuracy on test set: 0.981\n"
     ]
    }
   ],
   "source": [
    "# using the parameters fund earlier in the \"new\" model\n",
    "MLP_train = MLPClassifier(hidden_layer_sizes =(210,210) , random_state=42)\n",
    "\n",
    "# Fitting the model\n",
    "MLP_train.fit(X_train,y_train)\n",
    "\n",
    "# Checking the results\n",
    "print(\"Accuracy on train set: {:.3f}\".format(MLP_train.score(X_train, y_train)))\n",
    "print(\"Accuracy on test set: {:.3f}\".format(MLP_train.score(X_test, y_test)))"
   ]
  },
  {
   "cell_type": "code",
   "execution_count": 30,
   "metadata": {},
   "outputs": [
    {
     "name": "stdout",
     "output_type": "stream",
     "text": [
      "              precision    recall  f1-score   support\n",
      "\n",
      "           0       1.00      1.00      1.00        33\n",
      "           1       1.00      1.00      1.00        28\n",
      "           2       1.00      1.00      1.00        33\n",
      "           3       0.97      0.97      0.97        34\n",
      "           4       0.98      1.00      0.99        46\n",
      "           5       0.96      0.98      0.97        47\n",
      "           6       0.97      0.97      0.97        35\n",
      "           7       1.00      0.97      0.99        34\n",
      "           8       0.97      0.97      0.97        30\n",
      "           9       0.97      0.95      0.96        40\n",
      "\n",
      "    accuracy                           0.98       360\n",
      "   macro avg       0.98      0.98      0.98       360\n",
      "weighted avg       0.98      0.98      0.98       360\n",
      "\n"
     ]
    }
   ],
   "source": [
    "# Predicting on test set\n",
    "MLP_pred = MLP_train.predict(X_test)\n",
    "\n",
    "# Classification report\n",
    "print(classification_report(y_test, MLP_pred))"
   ]
  },
  {
   "cell_type": "code",
   "execution_count": 31,
   "metadata": {},
   "outputs": [
    {
     "name": "stdout",
     "output_type": "stream",
     "text": [
      "[[33  0  0  0  0  0  0  0  0  0]\n",
      " [ 0 28  0  0  0  0  0  0  0  0]\n",
      " [ 0  0 33  0  0  0  0  0  0  0]\n",
      " [ 0  0  0 33  0  1  0  0  0  0]\n",
      " [ 0  0  0  0 46  0  0  0  0  0]\n",
      " [ 0  0  0  0  0 46  1  0  0  0]\n",
      " [ 0  0  0  0  1  0 34  0  0  0]\n",
      " [ 0  0  0  0  0  0  0 33  0  1]\n",
      " [ 0  0  0  0  0  1  0  0 29  0]\n",
      " [ 0  0  0  1  0  0  0  0  1 38]]\n"
     ]
    }
   ],
   "source": [
    "# Confusion matrix\n",
    "cm_MLP = confusion_matrix(y_test, MLP_pred)\n",
    "print(cm_MLP)"
   ]
  },
  {
   "cell_type": "code",
   "execution_count": 33,
   "metadata": {},
   "outputs": [
    {
     "data": {
      "image/png": "[encoded data removed]",
      "text/plain": [
       "<Figure size 640x480 with 2 Axes>"
      ]
     },
     "metadata": {},
     "output_type": "display_data"
    }
   ],
   "source": [
    "# Displaying the confusion matrix\n",
    "disp = ConfusionMatrixDisplay(confusion_matrix=cm_MLP,\n",
    "                               display_labels=MLP_train.classes_)\n",
    "disp.plot()\n",
    "plt.show()"
   ]
  },
  {
   "cell_type": "code",
   "execution_count": null,
   "metadata": {},
   "outputs": [],
   "source": []
  }
 ],
 "metadata": {
  "anaconda-cloud": {},
  "kernelspec": {
   "display_name": "Python 3 (ipykernel)",
   "language": "python",
   "name": "python3"
  },
  "language_info": {
   "codemirror_mode": {
    "name": "ipython",
    "version": 3
   },
   "file_extension": ".py",
   "mimetype": "text/x-python",
   "name": "python",
   "nbconvert_exporter": "python",
   "pygments_lexer": "ipython3",
   "version": "3.9.12"
  },
  "vscode": {
   "interpreter": {
    "hash": "397c3f559c4c493ae5451cc63070de8ebd6a4a4b39c95bdbe2017c224ac93950"
   }
  }
 },
 "nbformat": 4,
 "nbformat_minor": 4
}

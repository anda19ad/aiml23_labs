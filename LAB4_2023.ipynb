{
 "cells": [
  {
   "cell_type": "code",
   "execution_count": 63,
   "metadata": {},
   "outputs": [],
   "source": [
    "import pandas as pd\n",
    "import matplotlib.pyplot as plt\n",
    "import numpy as np\n",
    "from sklearn.model_selection import GridSearchCV\n",
    "\n",
    "\n",
    "# learners\n",
    "from sklearn.neighbors import KNeighborsClassifier\n",
    "from sklearn.dummy import DummyClassifier\n",
    "from sklearn.linear_model import LogisticRegression\n",
    "\n",
    "# embeddings\n",
    "\n",
    "# preprocessing\n",
    "from sklearn.feature_extraction.text import TfidfVectorizer\n",
    "from sklearn.feature_extraction.text import CountVectorizer\n",
    "from sklearn.feature_extraction.text import TfidfTransformer\n",
    "from sklearn.model_selection import train_test_split\n",
    "\n",
    "# evaluation\n",
    "from sklearn.metrics import classification_report, confusion_matrix\n",
    "\n",
    "# pipeline\n",
    "from sklearn.pipeline import Pipeline"
   ]
  },
  {
   "cell_type": "markdown",
   "metadata": {},
   "source": [
    "## Question 1\n",
    "\n",
    "- Create a dataframe by reading the file `eng.csv`. You can find the .csv file under \"files\" on Canvas. (We suggest you take a sample of the data, for example with 1,000, 10,000 or 20,000 instances, to save computing time.) \n",
    "\n",
    "- Use value_counts to see the counts for each value of the column, `emotion`. \n",
    "\n",
    "We will create models to predict emotions based on texts. Assign the `text` column to X and the `emotion` column to y."
   ]
  },
  {
   "cell_type": "code",
   "execution_count": 25,
   "metadata": {},
   "outputs": [
    {
     "name": "stdout",
     "output_type": "stream",
     "text": [
      "<class 'pandas.core.frame.DataFrame'>\n",
      "RangeIndex: 282313 entries, 0 to 282312\n",
      "Data columns (total 3 columns):\n",
      " #   Column    Non-Null Count   Dtype \n",
      "---  ------    --------------   ----- \n",
      " 0   text      282313 non-null  object\n",
      " 1   emotion   282313 non-null  object\n",
      " 2   language  282313 non-null  object\n",
      "dtypes: object(3)\n",
      "memory usage: 6.5+ MB\n"
     ]
    }
   ],
   "source": [
    "df = pd.read_csv(\"data/eng.csv\")\n",
    "df.info()\n",
    "\n"
   ]
  },
  {
   "cell_type": "code",
   "execution_count": 26,
   "metadata": {},
   "outputs": [
    {
     "name": "stdout",
     "output_type": "stream",
     "text": [
      "<class 'pandas.core.frame.DataFrame'>\n",
      "Int64Index: 28231 entries, 157783 to 208036\n",
      "Data columns (total 3 columns):\n",
      " #   Column    Non-Null Count  Dtype \n",
      "---  ------    --------------  ----- \n",
      " 0   text      28231 non-null  object\n",
      " 1   emotion   28231 non-null  object\n",
      " 2   language  28231 non-null  object\n",
      "dtypes: object(3)\n",
      "memory usage: 882.2+ KB\n"
     ]
    }
   ],
   "source": [
    "# Creating a dataframe with only 10,000 instances. Taking the top of the list\n",
    "#df = df.iloc[:10000, :]\n",
    "#df.info()\n",
    "\n",
    "# Taking 10000 instances with the .sample method\n",
    "#df = df.sample(10000)\n",
    "#df.info()\n",
    "\n",
    "# A random sample from the dataset. https://stackoverflow.com/questions/40986230/reduce-dataframe-size-in-pandas\n",
    "df = df.sample(frac=0.1) # Get 10% of the data\n",
    "df.info()"
   ]
  },
  {
   "cell_type": "code",
   "execution_count": 27,
   "metadata": {},
   "outputs": [
    {
     "data": {
      "text/plain": [
       "(157783    [PERSON] un!!!Vmobile...team...blessings [PHOT...\n",
       " 281283    Tickets can be purchased at www.azleway.org, T...\n",
       " 222405    Regardless of race, regardless of age, regardl...\n",
       " 252982            SARHARA SINGER, COMPOSER & SERVE THE LORD\n",
       " 161925    :v Please, do a movie together...I beg both of...\n",
       "                                 ...                        \n",
       " 123616    Stunning weather in #Sydney today! Great way t...\n",
       " 52117     [PHOTO] Launch of Responsible Recycling eWaste...\n",
       " 221330    some of your cash and leave as you lay on the ...\n",
       " 133590    other hostess benefits! I am so excited these ...\n",
       " 208036                           HALAL [WITH] at [LOCATION]\n",
       " Name: text, Length: 28231, dtype: object,\n",
       " 157783    anticipation\n",
       " 281283    anticipation\n",
       " 222405             joy\n",
       " 252982             joy\n",
       " 161925    anticipation\n",
       "               ...     \n",
       " 123616             joy\n",
       " 52117              joy\n",
       " 221330             joy\n",
       " 133590    anticipation\n",
       " 208036    anticipation\n",
       " Name: emotion, Length: 28231, dtype: object)"
      ]
     },
     "execution_count": 27,
     "metadata": {},
     "output_type": "execute_result"
    }
   ],
   "source": [
    "#Assigning the text column to X and the emotions to y\n",
    "X = df.text\n",
    "y= df.emotion\n",
    "X,y"
   ]
  },
  {
   "cell_type": "markdown",
   "metadata": {},
   "source": [
    "## Question 2\n",
    "\n",
    "- Perform a train test split and then fit_transform a `Countvectorizer` on X_train and transform X_test."
   ]
  },
  {
   "cell_type": "code",
   "execution_count": 28,
   "metadata": {},
   "outputs": [],
   "source": [
    "# Train test splittinge the data.\n",
    "X_train, X_test, y_train, y_test = train_test_split(X, y, test_size=0.33, random_state=42)"
   ]
  },
  {
   "cell_type": "code",
   "execution_count": 29,
   "metadata": {},
   "outputs": [
    {
     "data": {
      "text/plain": [
       "<18914x33109 sparse matrix of type '<class 'numpy.int64'>'\n",
       "\twith 356449 stored elements in Compressed Sparse Row format>"
      ]
     },
     "execution_count": 29,
     "metadata": {},
     "output_type": "execute_result"
    }
   ],
   "source": [
    "# Using the count vectorizer https://www.geeksforgeeks.org/using-countvectorizer-to-extracting-features-from-text/\n",
    "vectorizer = CountVectorizer()\n",
    " \n",
    "#Fitting on the X_train data\n",
    "vectorizer.fit(X_train)\n",
    "\n",
    "#Transforming both the training and test data\n",
    "X_train0 = vectorizer.transform(X_train)\n",
    "X_test0 = vectorizer.transform(X_test)\n",
    "\n",
    "# Summarizing the Encoded Texts. Copy pasted from the link\n",
    "#print(\"Vocabulary: \", vectorizer.vocabulary_)\n",
    "#print(X_train.toarray())\n",
    "X_train0"
   ]
  },
  {
   "cell_type": "markdown",
   "metadata": {},
   "source": [
    "#### Plotting top N tokens\n",
    "Use the function below to plot the N most frequent tokens"
   ]
  },
  {
   "cell_type": "code",
   "execution_count": 31,
   "metadata": {},
   "outputs": [
    {
     "data": {
      "image/png": "[encoded data removed]",
      "text/plain": [
       "<Figure size 1000x500 with 1 Axes>"
      ]
     },
     "metadata": {},
     "output_type": "display_data"
    }
   ],
   "source": [
    "def top_n_tokens(X, cv, N, plot=True):\n",
    "    sum_words = X.sum(axis=0)\n",
    "    words_freq = [(word, sum_words[0, idx]) for word, idx in cv.vocabulary_.items()]\n",
    "    top_words_freq = sorted(words_freq, key = lambda x: x[1], reverse=True)[:N]\n",
    "\n",
    "    if plot:\n",
    "        plt.figure(figsize=(10, 5))\n",
    "        plt.bar([w[0] for w in top_words_freq], [w[1] for w in top_words_freq])\n",
    "        plt.xticks(rotation=45)\n",
    "        plt.xlabel('Token')\n",
    "        plt.ylabel('Frequency')\n",
    "        plt.show()\n",
    "    else:\n",
    "        return top_words_freq\n",
    "    \n",
    "top_n_tokens(\n",
    "    X= X_train0, \n",
    "    cv= vectorizer, \n",
    "    N=20\n",
    ")\n"
   ]
  },
  {
   "cell_type": "markdown",
   "metadata": {},
   "source": [
    "## Question 3\n",
    "\n",
    "- Build one or more classifiers. \n",
    "- Report the accuracy score for vectorized train and test data.\n",
    "- Print a classification report for model performance on vectorized test data"
   ]
  },
  {
   "cell_type": "code",
   "execution_count": 32,
   "metadata": {},
   "outputs": [],
   "source": [
    "# Making a KNN classifier\n",
    "knn = KNeighborsClassifier(n_neighbors=2)\n",
    "\n",
    "# Fitting and predicting https://www.projectpro.io/recipes/generate-classification-report-and-confusion-matrix-in-python\n",
    "y_pred = knn.fit(X_train0, y_train).predict(X_test0)\n"
   ]
  },
  {
   "cell_type": "code",
   "execution_count": 33,
   "metadata": {},
   "outputs": [
    {
     "name": "stdout",
     "output_type": "stream",
     "text": [
      "              precision    recall  f1-score   support\n",
      "\n",
      "       anger       0.18      0.32      0.23       565\n",
      "anticipation       0.48      0.58      0.52      3730\n",
      "        fear       0.09      0.10      0.10       114\n",
      "         joy       0.48      0.46      0.47      3683\n",
      "     sadness       0.57      0.11      0.19      1225\n",
      "\n",
      "    accuracy                           0.45      9317\n",
      "   macro avg       0.36      0.31      0.30      9317\n",
      "weighted avg       0.47      0.45      0.44      9317\n",
      "\n"
     ]
    }
   ],
   "source": [
    "# Making a classification report\n",
    "print(classification_report(y_test, y_pred))"
   ]
  },
  {
   "cell_type": "markdown",
   "metadata": {},
   "source": [
    "## Question 4\n",
    "In the above model(s), we used unigrams (single words) only. This is the default for count_vectorizer. \n",
    "\n",
    "- Try with unigrams and bigrams, and also unigrams, bigrams and trigrams.  \n",
    "You do this by setting ngram_range for `CountVectorizer`. \n",
    "\n",
    "- Build a logistic regression model for each of these settings and report on the results."
   ]
  },
  {
   "cell_type": "code",
   "execution_count": 18,
   "metadata": {},
   "outputs": [
    {
     "name": "stdout",
     "output_type": "stream",
     "text": [
      "Running n-grams: (1, 1)\n",
      "Running n-grams: (1, 2)\n",
      "Running n-grams: (1, 3)\n",
      "Running n-grams: (2, 3)\n"
     ]
    },
    {
     "data": {
      "text/html": [
       "<div>\n",
       "<style scoped>\n",
       "    .dataframe tbody tr th:only-of-type {\n",
       "        vertical-align: middle;\n",
       "    }\n",
       "\n",
       "    .dataframe tbody tr th {\n",
       "        vertical-align: top;\n",
       "    }\n",
       "\n",
       "    .dataframe thead th {\n",
       "        text-align: right;\n",
       "    }\n",
       "</style>\n",
       "<table border=\"1\" class=\"dataframe\">\n",
       "  <thead>\n",
       "    <tr style=\"text-align: right;\">\n",
       "      <th></th>\n",
       "      <th>ngrams</th>\n",
       "      <th>vocabulary_size</th>\n",
       "      <th>LogisticRegression_train</th>\n",
       "      <th>LogisticRegression_test</th>\n",
       "      <th>SGDClassifier_train</th>\n",
       "      <th>SGDClassifier_test</th>\n",
       "      <th>mean_train</th>\n",
       "    </tr>\n",
       "  </thead>\n",
       "  <tbody>\n",
       "    <tr>\n",
       "      <th>2</th>\n",
       "      <td>(1, 3)</td>\n",
       "      <td>331933</td>\n",
       "      <td>0.995</td>\n",
       "      <td>0.567</td>\n",
       "      <td>0.992</td>\n",
       "      <td>0.538</td>\n",
       "      <td>0.994</td>\n",
       "    </tr>\n",
       "    <tr>\n",
       "      <th>1</th>\n",
       "      <td>(1, 2)</td>\n",
       "      <td>144976</td>\n",
       "      <td>0.993</td>\n",
       "      <td>0.563</td>\n",
       "      <td>0.993</td>\n",
       "      <td>0.539</td>\n",
       "      <td>0.993</td>\n",
       "    </tr>\n",
       "    <tr>\n",
       "      <th>3</th>\n",
       "      <td>(2, 3)</td>\n",
       "      <td>308858</td>\n",
       "      <td>0.991</td>\n",
       "      <td>0.512</td>\n",
       "      <td>0.992</td>\n",
       "      <td>0.489</td>\n",
       "      <td>0.992</td>\n",
       "    </tr>\n",
       "    <tr>\n",
       "      <th>0</th>\n",
       "      <td>(1, 1)</td>\n",
       "      <td>23075</td>\n",
       "      <td>0.939</td>\n",
       "      <td>0.541</td>\n",
       "      <td>0.973</td>\n",
       "      <td>0.515</td>\n",
       "      <td>0.956</td>\n",
       "    </tr>\n",
       "  </tbody>\n",
       "</table>\n",
       "</div>"
      ],
      "text/plain": [
       "   ngrams  vocabulary_size  LogisticRegression_train  LogisticRegression_test  \\\n",
       "2  (1, 3)           331933                     0.995                    0.567   \n",
       "1  (1, 2)           144976                     0.993                    0.563   \n",
       "3  (2, 3)           308858                     0.991                    0.512   \n",
       "0  (1, 1)            23075                     0.939                    0.541   \n",
       "\n",
       "   SGDClassifier_train  SGDClassifier_test  mean_train  \n",
       "2                0.992               0.538       0.994  \n",
       "1                0.993               0.539       0.993  \n",
       "3                0.992               0.489       0.992  \n",
       "0                0.973               0.515       0.956  "
      ]
     },
     "execution_count": 18,
     "metadata": {},
     "output_type": "execute_result"
    }
   ],
   "source": [
    "# CAN BE BUILD IN MANY WAYS, BUT CONSIDER THE OUTPUT BELOW AS INSPIRATION"
   ]
  },
  {
   "cell_type": "markdown",
   "metadata": {},
   "source": [
    "<h2>Question 5</h2>\n",
    "\n",
    "- Use dummy classifier with the default settings (most frequent class), and the uniform strategy (random guessing). \n",
    "\n",
    "- Select the `CountVectorizer` with the optimal `nram_range`. Use the vectorized version of the data from this model.\n",
    "- Print the train and test results for each dummy classifier, to determine some baselines for comparison."
   ]
  },
  {
   "cell_type": "code",
   "execution_count": 34,
   "metadata": {},
   "outputs": [
    {
     "name": "stdout",
     "output_type": "stream",
     "text": [
      "Accuracy on training set: 0.405\n",
      "Accuracy on test set: 0.400\n"
     ]
    }
   ],
   "source": [
    "# Making a dummy classifier model\n",
    "dummy_clf_M = DummyClassifier(strategy=\"most_frequent\")\n",
    "\n",
    "# Fitting and predicting the model for most frequent\n",
    "y_pred_M = dummy_clf_M.fit(X_train, y_train).predict(X_test)\n",
    "\n",
    "# Printing scores\n",
    "print(\"Accuracy on training set: {:.3f}\".format(dummy_clf_M.score(X_train, y_train)))\n",
    "print(\"Accuracy on test set: {:.3f}\".format(dummy_clf_M.score(X_test, y_test)))"
   ]
  },
  {
   "cell_type": "code",
   "execution_count": 35,
   "metadata": {},
   "outputs": [
    {
     "name": "stdout",
     "output_type": "stream",
     "text": [
      "Accuracy on training set: 0.199\n",
      "Accuracy on test set: 0.198\n"
     ]
    }
   ],
   "source": [
    "# Making a dummy classifier model\n",
    "dummy_clf_U = DummyClassifier(strategy=\"uniform\")\n",
    "\n",
    "# Fitting and predicting the model for uniform\n",
    "y_pred_U = dummy_clf_U.fit(X_train, y_train).predict(X_test)\n",
    "\n",
    "# Printing scores\n",
    "print(\"Accuracy on training set: {:.3f}\".format(dummy_clf_U.score(X_train, y_train)))\n",
    "print(\"Accuracy on test set: {:.3f}\".format(dummy_clf_U.score(X_test, y_test)))"
   ]
  },
  {
   "cell_type": "code",
   "execution_count": 37,
   "metadata": {},
   "outputs": [
    {
     "name": "stdout",
     "output_type": "stream",
     "text": [
      "              precision    recall  f1-score   support\n",
      "\n",
      "       anger       0.18      0.32      0.23       565\n",
      "anticipation       0.48      0.58      0.52      3730\n",
      "        fear       0.09      0.10      0.10       114\n",
      "         joy       0.48      0.46      0.47      3683\n",
      "     sadness       0.57      0.11      0.19      1225\n",
      "\n",
      "    accuracy                           0.45      9317\n",
      "   macro avg       0.36      0.31      0.30      9317\n",
      "weighted avg       0.47      0.45      0.44      9317\n",
      "\n"
     ]
    }
   ],
   "source": [
    "# Trying n_gram ranges Using the count vectorizer https://www.geeksforgeeks.org/using-countvectorizer-to-extracting-features-from-text/\n",
    "vectorizer1 = CountVectorizer(ngram_range=(1,2))\n",
    " \n",
    "#Fitting on the X_train data\n",
    "vectorizer1.fit(X_train)\n",
    "\n",
    "#Transforming both the training and test data\n",
    "X_train1 = vectorizer.transform(X_train)\n",
    "X_test1 = vectorizer.transform(X_test)\n",
    "\n",
    "# Applying to the knn model made earlier and making a classification report\n",
    "y_pred = knn.predict(X_test1)\n",
    "print(classification_report(y_test, y_pred))"
   ]
  },
  {
   "cell_type": "code",
   "execution_count": 38,
   "metadata": {},
   "outputs": [
    {
     "name": "stdout",
     "output_type": "stream",
     "text": [
      "              precision    recall  f1-score   support\n",
      "\n",
      "       anger       0.18      0.32      0.23       565\n",
      "anticipation       0.48      0.58      0.52      3730\n",
      "        fear       0.09      0.10      0.10       114\n",
      "         joy       0.48      0.46      0.47      3683\n",
      "     sadness       0.57      0.11      0.19      1225\n",
      "\n",
      "    accuracy                           0.45      9317\n",
      "   macro avg       0.36      0.31      0.30      9317\n",
      "weighted avg       0.47      0.45      0.44      9317\n",
      "\n"
     ]
    }
   ],
   "source": [
    "# Trying n_gram ranges Using the count vectorizer https://www.geeksforgeeks.org/using-countvectorizer-to-extracting-features-from-text/\n",
    "vectorizer2 = CountVectorizer(ngram_range=(1,3))\n",
    " \n",
    "#Fitting on the X_train data\n",
    "vectorizer2.fit(X_train)\n",
    "\n",
    "#Transforming both the training and test data\n",
    "X_train2 = vectorizer.transform(X_train)\n",
    "X_test2 = vectorizer.transform(X_test)\n",
    "\n",
    "# Applying to the knn model made earlier and making a classification report\n",
    "y_pred = knn.predict(X_test2)\n",
    "print(classification_report(y_test, y_pred))"
   ]
  },
  {
   "cell_type": "code",
   "execution_count": 40,
   "metadata": {},
   "outputs": [
    {
     "name": "stdout",
     "output_type": "stream",
     "text": [
      "              precision    recall  f1-score   support\n",
      "\n",
      "       anger       0.18      0.32      0.23       565\n",
      "anticipation       0.48      0.58      0.52      3730\n",
      "        fear       0.09      0.10      0.10       114\n",
      "         joy       0.48      0.46      0.47      3683\n",
      "     sadness       0.57      0.11      0.19      1225\n",
      "\n",
      "    accuracy                           0.45      9317\n",
      "   macro avg       0.36      0.31      0.30      9317\n",
      "weighted avg       0.47      0.45      0.44      9317\n",
      "\n"
     ]
    }
   ],
   "source": [
    "# Trying n_gram ranges Using the count vectorizer https://www.geeksforgeeks.org/using-countvectorizer-to-extracting-features-from-text/\n",
    "vectorizer3 = CountVectorizer(ngram_range=(1,4))\n",
    " \n",
    "#Fitting on the X_train data\n",
    "vectorizer3.fit(X_train)\n",
    "\n",
    "#Transforming both the training and test data\n",
    "X_train3 = vectorizer.transform(X_train)\n",
    "X_test3 = vectorizer.transform(X_test)\n",
    "\n",
    "# Applying to the knn model made earlier and making a classification report\n",
    "y_pred = knn.predict(X_test3)\n",
    "print(classification_report(y_test, y_pred))"
   ]
  },
  {
   "attachments": {},
   "cell_type": "markdown",
   "metadata": {},
   "source": [
    "Different ngram_ranges have been tried out but the result does not seem to change? Not sure if i am doing things correctly?"
   ]
  },
  {
   "cell_type": "markdown",
   "metadata": {},
   "source": [
    "## Question 6\n",
    "\n",
    "- Use the `TfidfTransformer`, to create Term Frequency - Inverse Document Frequency (tfidf) scores instead of frequency scores. \n",
    "- You can apply the `TfidfTransformer` on the vectors created by `CountVectorizer`, using the fit_transform method just as is done with `CountVectorizer`. \n",
    "- Create a logistic regression model with the data produced by `TfidfTransformer`, and report the scores on train and test.\n",
    "\n",
    "- **TIP**: Instead of calculating frequencies with `CountVectorizer` and *then* calculating TF-IDF scores from said frequencies, you can import and call `TfidfVectorizer` directly, with the same syntax as you used for `CountVectorizer`"
   ]
  },
  {
   "cell_type": "code",
   "execution_count": 53,
   "metadata": {},
   "outputs": [
    {
     "data": {
      "text/plain": [
       "(18914, 33109)"
      ]
     },
     "execution_count": 53,
     "metadata": {},
     "output_type": "execute_result"
    }
   ],
   "source": [
    "# A lot of inspiration from here: https://kavita-ganesan.com/tfidftransformer-tfidfvectorizer-usage-differences/#.Y_y69l6ZO3A\n",
    "# instantiate CountVectorizer() \n",
    "cv=CountVectorizer() \n",
    "# this steps generates word counts for the words in your docs \n",
    "word_count_vector_train=cv.fit_transform(X_train)\n",
    "\n",
    "# Seeing the result\n",
    "word_count_vector_train.shape"
   ]
  },
  {
   "cell_type": "code",
   "execution_count": 54,
   "metadata": {},
   "outputs": [
    {
     "name": "stderr",
     "output_type": "stream",
     "text": [
      "c:\\Users\\lynma\\anaconda3\\lib\\site-packages\\sklearn\\utils\\deprecation.py:87: FutureWarning: Function get_feature_names is deprecated; get_feature_names is deprecated in 1.0 and will be removed in 1.2. Please use get_feature_names_out instead.\n",
      "  warnings.warn(msg, category=FutureWarning)\n"
     ]
    },
    {
     "data": {
      "text/html": [
       "<div>\n",
       "<style scoped>\n",
       "    .dataframe tbody tr th:only-of-type {\n",
       "        vertical-align: middle;\n",
       "    }\n",
       "\n",
       "    .dataframe tbody tr th {\n",
       "        vertical-align: top;\n",
       "    }\n",
       "\n",
       "    .dataframe thead th {\n",
       "        text-align: right;\n",
       "    }\n",
       "</style>\n",
       "<table border=\"1\" class=\"dataframe\">\n",
       "  <thead>\n",
       "    <tr style=\"text-align: right;\">\n",
       "      <th></th>\n",
       "      <th>idf_weights</th>\n",
       "    </tr>\n",
       "  </thead>\n",
       "  <tbody>\n",
       "    <tr>\n",
       "      <th>photo</th>\n",
       "      <td>1.628510</td>\n",
       "    </tr>\n",
       "    <tr>\n",
       "      <th>with</th>\n",
       "      <td>1.769417</td>\n",
       "    </tr>\n",
       "    <tr>\n",
       "      <th>person</th>\n",
       "      <td>1.772159</td>\n",
       "    </tr>\n",
       "    <tr>\n",
       "      <th>and</th>\n",
       "      <td>2.011627</td>\n",
       "    </tr>\n",
       "    <tr>\n",
       "      <th>to</th>\n",
       "      <td>2.024357</td>\n",
       "    </tr>\n",
       "    <tr>\n",
       "      <th>...</th>\n",
       "      <td>...</td>\n",
       "    </tr>\n",
       "    <tr>\n",
       "      <th>iamwill</th>\n",
       "      <td>10.154563</td>\n",
       "    </tr>\n",
       "    <tr>\n",
       "      <th>iamphosphene</th>\n",
       "      <td>10.154563</td>\n",
       "    </tr>\n",
       "    <tr>\n",
       "      <th>iamnru</th>\n",
       "      <td>10.154563</td>\n",
       "    </tr>\n",
       "    <tr>\n",
       "      <th>iammandaue</th>\n",
       "      <td>10.154563</td>\n",
       "    </tr>\n",
       "    <tr>\n",
       "      <th>트로트의</th>\n",
       "      <td>10.154563</td>\n",
       "    </tr>\n",
       "  </tbody>\n",
       "</table>\n",
       "<p>33109 rows × 1 columns</p>\n",
       "</div>"
      ],
      "text/plain": [
       "              idf_weights\n",
       "photo            1.628510\n",
       "with             1.769417\n",
       "person           1.772159\n",
       "and              2.011627\n",
       "to               2.024357\n",
       "...                   ...\n",
       "iamwill         10.154563\n",
       "iamphosphene    10.154563\n",
       "iamnru          10.154563\n",
       "iammandaue      10.154563\n",
       "트로트의            10.154563\n",
       "\n",
       "[33109 rows x 1 columns]"
      ]
     },
     "execution_count": 54,
     "metadata": {},
     "output_type": "execute_result"
    }
   ],
   "source": [
    "# Calling the tfidf\n",
    "tfidf_transformer=TfidfTransformer(smooth_idf=True,use_idf=True) \n",
    "\n",
    "# Fitting the model. Not sure whether to fit and or transform the test data?\n",
    "tfidf_transformer.fit(word_count_vector_train)\n",
    "#tfidf_transformer.transform(word_count_vector_test)\n",
    "\n",
    "# Preparing for showing the results\n",
    "X_train_df_idf = pd.DataFrame(tfidf_transformer.idf_, index=cv.get_feature_names(),columns=[\"idf_weights\"]) \n",
    "\n",
    "# sort ascending \n",
    "X_train_df_idf.sort_values(by=['idf_weights'])"
   ]
  },
  {
   "cell_type": "code",
   "execution_count": 55,
   "metadata": {},
   "outputs": [
    {
     "ename": "ValueError",
     "evalue": "Found input variables with inconsistent numbers of samples: [33109, 18914]",
     "output_type": "error",
     "traceback": [
      "\u001b[1;31m---------------------------------------------------------------------------\u001b[0m",
      "\u001b[1;31mValueError\u001b[0m                                Traceback (most recent call last)",
      "Cell \u001b[1;32mIn[55], line 2\u001b[0m\n\u001b[0;32m      1\u001b[0m \u001b[39m# Instantiating logistic regression and fitting on the tfidf data\u001b[39;00m\n\u001b[1;32m----> 2\u001b[0m lr \u001b[39m=\u001b[39m LogisticRegression()\u001b[39m.\u001b[39;49mfit(X_train_df_idf, y_train)\n\u001b[0;32m      4\u001b[0m \u001b[39m# Predictiting\u001b[39;00m\n\u001b[0;32m      5\u001b[0m \u001b[39m# Printing scores\u001b[39;00m\n\u001b[0;32m      6\u001b[0m \u001b[39mprint\u001b[39m(\u001b[39m\"\u001b[39m\u001b[39mAccuracy on training set: \u001b[39m\u001b[39m{:.3f}\u001b[39;00m\u001b[39m\"\u001b[39m\u001b[39m.\u001b[39mformat(lr\u001b[39m.\u001b[39mscore(X_train, y_train)))\n",
      "File \u001b[1;32mc:\\Users\\lynma\\anaconda3\\lib\\site-packages\\sklearn\\linear_model\\_logistic.py:1138\u001b[0m, in \u001b[0;36mLogisticRegression.fit\u001b[1;34m(self, X, y, sample_weight)\u001b[0m\n\u001b[0;32m   1135\u001b[0m \u001b[39melse\u001b[39;00m:\n\u001b[0;32m   1136\u001b[0m     _dtype \u001b[39m=\u001b[39m [np\u001b[39m.\u001b[39mfloat64, np\u001b[39m.\u001b[39mfloat32]\n\u001b[1;32m-> 1138\u001b[0m X, y \u001b[39m=\u001b[39m \u001b[39mself\u001b[39;49m\u001b[39m.\u001b[39;49m_validate_data(\n\u001b[0;32m   1139\u001b[0m     X,\n\u001b[0;32m   1140\u001b[0m     y,\n\u001b[0;32m   1141\u001b[0m     accept_sparse\u001b[39m=\u001b[39;49m\u001b[39m\"\u001b[39;49m\u001b[39mcsr\u001b[39;49m\u001b[39m\"\u001b[39;49m,\n\u001b[0;32m   1142\u001b[0m     dtype\u001b[39m=\u001b[39;49m_dtype,\n\u001b[0;32m   1143\u001b[0m     order\u001b[39m=\u001b[39;49m\u001b[39m\"\u001b[39;49m\u001b[39mC\u001b[39;49m\u001b[39m\"\u001b[39;49m,\n\u001b[0;32m   1144\u001b[0m     accept_large_sparse\u001b[39m=\u001b[39;49msolver \u001b[39mnot\u001b[39;49;00m \u001b[39min\u001b[39;49;00m [\u001b[39m\"\u001b[39;49m\u001b[39mliblinear\u001b[39;49m\u001b[39m\"\u001b[39;49m, \u001b[39m\"\u001b[39;49m\u001b[39msag\u001b[39;49m\u001b[39m\"\u001b[39;49m, \u001b[39m\"\u001b[39;49m\u001b[39msaga\u001b[39;49m\u001b[39m\"\u001b[39;49m],\n\u001b[0;32m   1145\u001b[0m )\n\u001b[0;32m   1146\u001b[0m check_classification_targets(y)\n\u001b[0;32m   1147\u001b[0m \u001b[39mself\u001b[39m\u001b[39m.\u001b[39mclasses_ \u001b[39m=\u001b[39m np\u001b[39m.\u001b[39munique(y)\n",
      "File \u001b[1;32mc:\\Users\\lynma\\anaconda3\\lib\\site-packages\\sklearn\\base.py:596\u001b[0m, in \u001b[0;36mBaseEstimator._validate_data\u001b[1;34m(self, X, y, reset, validate_separately, **check_params)\u001b[0m\n\u001b[0;32m    594\u001b[0m         y \u001b[39m=\u001b[39m check_array(y, input_name\u001b[39m=\u001b[39m\u001b[39m\"\u001b[39m\u001b[39my\u001b[39m\u001b[39m\"\u001b[39m, \u001b[39m*\u001b[39m\u001b[39m*\u001b[39mcheck_y_params)\n\u001b[0;32m    595\u001b[0m     \u001b[39melse\u001b[39;00m:\n\u001b[1;32m--> 596\u001b[0m         X, y \u001b[39m=\u001b[39m check_X_y(X, y, \u001b[39m*\u001b[39m\u001b[39m*\u001b[39mcheck_params)\n\u001b[0;32m    597\u001b[0m     out \u001b[39m=\u001b[39m X, y\n\u001b[0;32m    599\u001b[0m \u001b[39mif\u001b[39;00m \u001b[39mnot\u001b[39;00m no_val_X \u001b[39mand\u001b[39;00m check_params\u001b[39m.\u001b[39mget(\u001b[39m\"\u001b[39m\u001b[39mensure_2d\u001b[39m\u001b[39m\"\u001b[39m, \u001b[39mTrue\u001b[39;00m):\n",
      "File \u001b[1;32mc:\\Users\\lynma\\anaconda3\\lib\\site-packages\\sklearn\\utils\\validation.py:1092\u001b[0m, in \u001b[0;36mcheck_X_y\u001b[1;34m(X, y, accept_sparse, accept_large_sparse, dtype, order, copy, force_all_finite, ensure_2d, allow_nd, multi_output, ensure_min_samples, ensure_min_features, y_numeric, estimator)\u001b[0m\n\u001b[0;32m   1074\u001b[0m X \u001b[39m=\u001b[39m check_array(\n\u001b[0;32m   1075\u001b[0m     X,\n\u001b[0;32m   1076\u001b[0m     accept_sparse\u001b[39m=\u001b[39maccept_sparse,\n\u001b[1;32m   (...)\u001b[0m\n\u001b[0;32m   1087\u001b[0m     input_name\u001b[39m=\u001b[39m\u001b[39m\"\u001b[39m\u001b[39mX\u001b[39m\u001b[39m\"\u001b[39m,\n\u001b[0;32m   1088\u001b[0m )\n\u001b[0;32m   1090\u001b[0m y \u001b[39m=\u001b[39m _check_y(y, multi_output\u001b[39m=\u001b[39mmulti_output, y_numeric\u001b[39m=\u001b[39my_numeric, estimator\u001b[39m=\u001b[39mestimator)\n\u001b[1;32m-> 1092\u001b[0m check_consistent_length(X, y)\n\u001b[0;32m   1094\u001b[0m \u001b[39mreturn\u001b[39;00m X, y\n",
      "File \u001b[1;32mc:\\Users\\lynma\\anaconda3\\lib\\site-packages\\sklearn\\utils\\validation.py:387\u001b[0m, in \u001b[0;36mcheck_consistent_length\u001b[1;34m(*arrays)\u001b[0m\n\u001b[0;32m    385\u001b[0m uniques \u001b[39m=\u001b[39m np\u001b[39m.\u001b[39munique(lengths)\n\u001b[0;32m    386\u001b[0m \u001b[39mif\u001b[39;00m \u001b[39mlen\u001b[39m(uniques) \u001b[39m>\u001b[39m \u001b[39m1\u001b[39m:\n\u001b[1;32m--> 387\u001b[0m     \u001b[39mraise\u001b[39;00m \u001b[39mValueError\u001b[39;00m(\n\u001b[0;32m    388\u001b[0m         \u001b[39m\"\u001b[39m\u001b[39mFound input variables with inconsistent numbers of samples: \u001b[39m\u001b[39m%r\u001b[39;00m\u001b[39m\"\u001b[39m\n\u001b[0;32m    389\u001b[0m         \u001b[39m%\u001b[39m [\u001b[39mint\u001b[39m(l) \u001b[39mfor\u001b[39;00m l \u001b[39min\u001b[39;00m lengths]\n\u001b[0;32m    390\u001b[0m     )\n",
      "\u001b[1;31mValueError\u001b[0m: Found input variables with inconsistent numbers of samples: [33109, 18914]"
     ]
    }
   ],
   "source": [
    "# Not sure what actually goes wrong here\n",
    "# Instantiating logistic regression and fitting on the tfidf data\n",
    "lr = LogisticRegression().fit(X_train_df_idf, y_train)\n",
    "\n",
    "# Predictiting\n",
    "# Printing scores\n",
    "print(\"Accuracy on training set: {:.3f}\".format(lr.score(X_train, y_train)))\n",
    "print(\"Accuracy on test set: {:.3f}\".format(lr.score(X_test, y_test)))"
   ]
  },
  {
   "cell_type": "code",
   "execution_count": 60,
   "metadata": {},
   "outputs": [
    {
     "name": "stdout",
     "output_type": "stream",
     "text": [
      "              precision    recall  f1-score   support\n",
      "\n",
      "       anger       0.54      0.38      0.45       565\n",
      "anticipation       0.59      0.62      0.61      3730\n",
      "        fear       0.48      0.09      0.15       114\n",
      "         joy       0.56      0.60      0.58      3683\n",
      "     sadness       0.61      0.48      0.54      1225\n",
      "\n",
      "    accuracy                           0.58      9317\n",
      "   macro avg       0.55      0.44      0.46      9317\n",
      "weighted avg       0.58      0.58      0.57      9317\n",
      "\n"
     ]
    }
   ],
   "source": [
    "# Using the TfidfVectorizer\n",
    "TVec = TfidfVectorizer()\n",
    "\n",
    "#Fitting the vector data on X_Train\n",
    "X_trainTVec = TVec.fit(X_train)\n",
    "\n",
    "\n",
    "#Transforming both the training and test data\n",
    "X_trainTV = vectorizer.transform(X_train)\n",
    "X_testTV = vectorizer.transform(X_test)\n",
    "\n",
    "# Logistic regression model with Fitting on the X_train data\n",
    "lrTV =LogisticRegression(random_state=42, max_iter=10000).fit(X_trainTV, y_train)\n",
    "\n",
    "# Applying to the knn model made earlier and making a classification report\n",
    "y_pred = lrTV.predict(X_testTV)\n",
    "print(classification_report(y_test, y_pred))"
   ]
  },
  {
   "cell_type": "markdown",
   "metadata": {},
   "source": [
    "<h2>Question 7</h2>\n",
    "\n",
    "\n",
    "- Create a Scikit-Learn `Pipeline`, consisting of `CountVectorizer`, `TfidfTransformer`, and `LogisticRegression`. \n",
    "\n",
    "- Apply the pipeline to the training data, just as in the previous question, and report results on train and test."
   ]
  },
  {
   "cell_type": "code",
   "execution_count": 61,
   "metadata": {},
   "outputs": [
    {
     "data": {
      "text/plain": [
       "0.5920360631104433"
      ]
     },
     "execution_count": 61,
     "metadata": {},
     "output_type": "execute_result"
    }
   ],
   "source": [
    "# Using Pipeline https://scikit-learn.org/stable/modules/generated/sklearn.pipeline.Pipeline.html\n",
    "# Inspiration from here as well: https://medium.com/@soohyunniekimm/logistic-regression-with-columntransformer-pipeline-and-gridsearchcv-d2e3a781422f\n",
    "# Defining pipe\n",
    "pipe = Pipeline(steps=[\n",
    "    ('CountVectorizer',CountVectorizer()),\n",
    "    ('TfidfTransformer',TfidfTransformer()),\n",
    "    ('Model', LogisticRegression(max_iter=10000))\n",
    "])\n",
    "\n",
    "# Fitting the pipeline with the data\n",
    "pipe.fit(X_train, y_train)\n",
    "\n",
    "# Printing the score\n",
    "pipe.score(X_test,y_test)"
   ]
  },
  {
   "cell_type": "code",
   "execution_count": 62,
   "metadata": {},
   "outputs": [
    {
     "name": "stdout",
     "output_type": "stream",
     "text": [
      "Accuracy on training set: 0.774\n",
      "Accuracy on test set: 0.592\n"
     ]
    }
   ],
   "source": [
    "# Printing scores\n",
    "print(\"Accuracy on training set: {:.3f}\".format(pipe.score(X_train, y_train)))\n",
    "print(\"Accuracy on test set: {:.3f}\".format(pipe.score(X_test, y_test)))"
   ]
  },
  {
   "cell_type": "markdown",
   "metadata": {},
   "source": [
    "<h2>Question 8</h2>\n",
    "\n",
    "- Use the above pipeline with GridSearchCV. \n",
    "\n",
    "**Hint** You can use the following choices for parameters: \n",
    "- for CountVectorizer, use ngram ranges of (1,1), (1,2), and (1,3). \n",
    "- For TfidfTransformer set the *use_idf* parameter to `True` or `False`. Print the best score and best parameter choices."
   ]
  },
  {
   "cell_type": "code",
   "execution_count": 66,
   "metadata": {},
   "outputs": [
    {
     "name": "stdout",
     "output_type": "stream",
     "text": [
      "Accuracy on training set: 0.854\n",
      "Accuracy on test set: 0.592\n",
      "Best params:  {'CountVectorizer__ngram_range': (1, 2), 'TfidfTransformer__use_idf': True}\n"
     ]
    }
   ],
   "source": [
    "# Pipeline together with gridsearchCV: https://scikit-learn.org/stable/tutorial/statistical_inference/putting_together.html\n",
    "# Defining parameters for the param grid\n",
    "params = {\n",
    "    'CountVectorizer__ngram_range':[(1,1),(1,2),(1,3)],\n",
    "    'TfidfTransformer__use_idf':[True,False]\n",
    "}\n",
    "\n",
    "search = GridSearchCV(\n",
    "    pipe,\n",
    "    param_grid=params,\n",
    "    cv=2\n",
    ")\n",
    "\n",
    "# Fitting the grid search\n",
    "search.fit(X_train, y_train)\n",
    "\n",
    "print(\"Accuracy on training set: {:.3f}\".format(search.score(X_train, y_train)))\n",
    "print(\"Accuracy on test set: {:.3f}\".format(search.score(X_test, y_test)))\n",
    "print(\"Best params: \", search.best_params_) # Printing the best params"
   ]
  },
  {
   "cell_type": "markdown",
   "metadata": {},
   "source": [
    "<h2>Question 9</h2>\n",
    "Use classification report with the best model resulting from grid_search in the previous two questions."
   ]
  },
  {
   "cell_type": "code",
   "execution_count": 67,
   "metadata": {},
   "outputs": [
    {
     "name": "stdout",
     "output_type": "stream",
     "text": [
      "              precision    recall  f1-score   support\n",
      "\n",
      "       anger       0.76      0.20      0.32       565\n",
      "anticipation       0.59      0.69      0.64      3730\n",
      "        fear       0.00      0.00      0.00       114\n",
      "         joy       0.57      0.63      0.60      3683\n",
      "     sadness       0.68      0.41      0.51      1225\n",
      "\n",
      "    accuracy                           0.59      9317\n",
      "   macro avg       0.52      0.39      0.41      9317\n",
      "weighted avg       0.60      0.59      0.58      9317\n",
      "\n"
     ]
    },
    {
     "name": "stderr",
     "output_type": "stream",
     "text": [
      "c:\\Users\\lynma\\anaconda3\\lib\\site-packages\\sklearn\\metrics\\_classification.py:1327: UndefinedMetricWarning: Precision and F-score are ill-defined and being set to 0.0 in labels with no predicted samples. Use `zero_division` parameter to control this behavior.\n",
      "  _warn_prf(average, modifier, msg_start, len(result))\n",
      "c:\\Users\\lynma\\anaconda3\\lib\\site-packages\\sklearn\\metrics\\_classification.py:1327: UndefinedMetricWarning: Precision and F-score are ill-defined and being set to 0.0 in labels with no predicted samples. Use `zero_division` parameter to control this behavior.\n",
      "  _warn_prf(average, modifier, msg_start, len(result))\n",
      "c:\\Users\\lynma\\anaconda3\\lib\\site-packages\\sklearn\\metrics\\_classification.py:1327: UndefinedMetricWarning: Precision and F-score are ill-defined and being set to 0.0 in labels with no predicted samples. Use `zero_division` parameter to control this behavior.\n",
      "  _warn_prf(average, modifier, msg_start, len(result))\n"
     ]
    }
   ],
   "source": [
    "# Making a new pipeline, with the suggested optimal params\n",
    "pipe1 = Pipeline(steps=[\n",
    "    ('CountVectorizer',CountVectorizer(ngram_range=(1,2))),\n",
    "    ('TfidfTransformer',TfidfTransformer(use_idf=True)),\n",
    "    ('Model', LogisticRegression(max_iter=10000))\n",
    "])\n",
    "\n",
    "# Fitting the pipeline with the data\n",
    "pipe1.fit(X_train, y_train)\n",
    "\n",
    "# Predicting with the optimal params\n",
    "y_pipePred = pipe1.predict(X_test)\n",
    "\n",
    "# Printing the classification report\n",
    "print(classification_report(y_test, y_pipePred))\n"
   ]
  },
  {
   "attachments": {},
   "cell_type": "markdown",
   "metadata": {},
   "source": [
    "Interesting that anger gets high precision score, but so low recall score. On the other hand anticipation seems to have the highest F1 score."
   ]
  },
  {
   "cell_type": "markdown",
   "metadata": {},
   "source": [
    "## Bonus: Question 10\n",
    "Let's go back to question 1 and convert the problem to a binary classification problem. \n",
    "\n",
    "- Map (\"joy\", \"anticipation\") to \"positive\" and (\"anger\", \"fear\", \"sadness\") to \"negative\" (Use the snippet below)\n",
    "\n",
    "- Then copy/paste the experiments above here, and run them again with this new scope. \n",
    "- Report what your new baseline is and comment on the effect of changing the scope."
   ]
  },
  {
   "cell_type": "code",
   "execution_count": null,
   "metadata": {},
   "outputs": [],
   "source": [
    "df[\"emotion\"] = df[\"emotion\"].replace(\n",
    "    {\n",
    "        \"joy\": \"positive\",\n",
    "        \"anticipation\": \"positive\",\n",
    "        \"anger\": \"negative\",\n",
    "        \"fear\": \"negative\",\n",
    "        \"sadness\": \"negative\"\n",
    "    }\n",
    ")"
   ]
  }
 ],
 "metadata": {
  "kernelspec": {
   "display_name": "base",
   "language": "python",
   "name": "python3"
  },
  "language_info": {
   "codemirror_mode": {
    "name": "ipython",
    "version": 3
   },
   "file_extension": ".py",
   "mimetype": "text/x-python",
   "name": "python",
   "nbconvert_exporter": "python",
   "pygments_lexer": "ipython3",
   "version": "3.9.12"
  },
  "vscode": {
   "interpreter": {
    "hash": "177413c0c7823e0fe5ce6e144f55cc71330c56be716ff616ac32165306d95ef2"
   }
  }
 },
 "nbformat": 4,
 "nbformat_minor": 4
}
